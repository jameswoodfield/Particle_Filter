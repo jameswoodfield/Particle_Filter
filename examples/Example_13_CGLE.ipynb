{
 "cells": [
  {
   "cell_type": "code",
   "execution_count": 1,
   "metadata": {},
   "outputs": [
    {
     "name": "stdout",
     "output_type": "stream",
     "text": [
      "float64\n"
     ]
    }
   ],
   "source": [
    "import os\n",
    "os.environ[\"JAX_ENABLE_X64\"] = \"true\"\n",
    "import sys\n",
    "sys.path.append('..')\n",
    "import jax\n",
    "import jax.numpy as jnp\n",
    "import matplotlib.pyplot as plt\n",
    "from ipywidgets import interact\n",
    "from ml_collections import ConfigDict\n",
    "from models.CGLE import *\n",
    "from filters import resamplers\n",
    "from filters.filter import ParticleFilter\n",
    "from filters.filter import ParticleFilterAll\n",
    "from jax import config\n",
    "jax.config.update(\"jax_enable_x64\", True)\n",
    "import numpy as np"
   ]
  },
  {
   "cell_type": "markdown",
   "metadata": {},
   "source": [
    "Initialisation of a twin experiment. "
   ]
  },
  {
   "cell_type": "code",
   "execution_count": 2,
   "metadata": {},
   "outputs": [],
   "source": [
    "signal_params = ConfigDict(CGLE_params)\n",
    "ensemble_params = ConfigDict(CGLE_params)\n",
    "signal_params.update(E=1,S=3,noise_magnitude = 0.01,stochastic_advection_basis='sin_sin')\n",
    "ensemble_params.update(E=32,S=3,noise_magnitude = 0.01,stochastic_advection_basis='sin_sin')\n",
    "key = jax.random.PRNGKey(0)"
   ]
  },
  {
   "cell_type": "markdown",
   "metadata": {},
   "source": [
    "Now we specify the models, by calling the class."
   ]
  },
  {
   "cell_type": "code",
   "execution_count": 3,
   "metadata": {},
   "outputs": [
    {
     "name": "stdout",
     "output_type": "stream",
     "text": [
      "E: 32\n",
      "Forcing_basis_name: sin_sin\n",
      "L: 100.0\n",
      "Nt: 640\n",
      "S: 3\n",
      "alpha: 0.0\n",
      "beta: 1.5\n",
      "dt: 0.1\n",
      "dx: 0.390625\n",
      "equation_name: Complex Ginzburg-Landau\n",
      "initial_condition: chebfun\n",
      "method: Dealiased_SETDRK4_forced\n",
      "noise_magnitude: 0.01\n",
      "nt: 640\n",
      "nx: 256\n",
      "stochastic_advection_basis: sin_sin\n",
      "tmax: 64.0\n",
      "xmax: 50.0\n",
      "xmin: -50.0\n",
      " 640\n",
      "multinomial, systematic, no_resampling, none, default\n"
     ]
    }
   ],
   "source": [
    "signal_model = CGLE_SETD_KT_CM_JAX(signal_params)\n",
    "ensemble_model = CGLE_SETD_KT_CM_JAX(ensemble_params)\n",
    "\n",
    "initial_signal = initial_condition(signal_model.xx,signal_model.yy,signal_params.E,signal_params.initial_condition)#initial_condition(signal_model.x, signal_params.E, signal_params.initial_condition)\n",
    "initial_ensemble = initial_condition(ensemble_model.xx, ensemble_model.yy, ensemble_params.E, ensemble_params.initial_condition)\n",
    "\n",
    "print(ensemble_model.params,ensemble_model.params.nt)\n",
    "available_resamplers = \", \".join(resamplers.keys())\n",
    "print(available_resamplers)"
   ]
  },
  {
   "cell_type": "code",
   "execution_count": 11,
   "metadata": {},
   "outputs": [
    {
     "name": "stdout",
     "output_type": "stream",
     "text": [
      "Observation temporal frequency: 20\n",
      "Observation spatial locations:[-50 -18  14  46]\n"
     ]
    }
   ],
   "source": [
    "observation_spatial_frequency = 32\n",
    "observation_locations = np.arange(signal_model.params.xmin,signal_model.params.xmax,observation_spatial_frequency,dtype=int)\n",
    "observation_noise = 0.1\n",
    "number_of_observations_time = 32 #ensemble_model.params.nt\n",
    "observation_temporal_frequency = int(ensemble_model.params.nt/number_of_observations_time)\n",
    "print(f\"Observation temporal frequency: {observation_temporal_frequency}\")\n",
    "print(f\"Observation spatial locations:{observation_locations}\")\n",
    "pf_systematic = ParticleFilterAll(\n",
    "    n_particles = ensemble_params.E,\n",
    "    n_steps = observation_temporal_frequency,\n",
    "    n_dim = initial_signal.shape[-1],\n",
    "    forward_model = ensemble_model,\n",
    "    signal_model = signal_model,\n",
    "    sigma = observation_noise,\n",
    "    resampling=\"systematic\",#'default',\n",
    "    observation_locations = observation_locations,\n",
    ")\n"
   ]
  },
  {
   "cell_type": "markdown",
   "metadata": {},
   "source": [
    "To run the filter with all outputs, the input arrays need to have 3 dimensions.\n",
    "They are (time, n_particles, space)."
   ]
  },
  {
   "cell_type": "code",
   "execution_count": 12,
   "metadata": {},
   "outputs": [
    {
     "name": "stdout",
     "output_type": "stream",
     "text": [
      "(1, 1, 1, 1, 256, 256)\n",
      "(3, 256, 256) (1, 3) (1, 3)\n",
      "(1, 1, 1, 32, 256, 256)\n",
      "(3, 256, 256) (32, 3) (32, 3)\n",
      "(np.int64(-50), np.int64(-18), np.int64(14), np.int64(46))\n"
     ]
    },
    {
     "ename": "TypeError",
     "evalue": "sub got incompatible shapes for broadcasting: (2097152,), (65536,).",
     "output_type": "error",
     "traceback": [
      "\u001b[31m---------------------------------------------------------------------------\u001b[39m",
      "\u001b[31mTypeError\u001b[39m                                 Traceback (most recent call last)",
      "\u001b[36mCell\u001b[39m\u001b[36m \u001b[39m\u001b[32mIn[12]\u001b[39m\u001b[32m, line 6\u001b[39m\n\u001b[32m      4\u001b[39m initial_signal = initial_signal[\u001b[38;5;28;01mNone\u001b[39;00m, ...] \u001b[38;5;66;03m# adding the time dimension\u001b[39;00m\n\u001b[32m      5\u001b[39m key = jax.random.PRNGKey(\u001b[32m1\u001b[39m) \u001b[38;5;66;03m# random key for JAX\u001b[39;00m\n\u001b[32m----> \u001b[39m\u001b[32m6\u001b[39m final, \u001b[38;5;28mall\u001b[39m = \u001b[43mpf_systematic\u001b[49m\u001b[43m.\u001b[49m\u001b[43mrun\u001b[49m\u001b[43m(\u001b[49m\u001b[43minitial_ensemble\u001b[49m\u001b[43m,\u001b[49m\u001b[43m \u001b[49m\u001b[43minitial_signal\u001b[49m\u001b[43m,\u001b[49m\u001b[43m \u001b[49m\u001b[43mda_steps\u001b[49m\u001b[43m \u001b[49m\u001b[43m,\u001b[49m\u001b[43mkey\u001b[49m\u001b[43m)\u001b[49m \u001b[38;5;66;03m#the final input is scan length? \u001b[39;00m\n",
      "\u001b[36mFile \u001b[39m\u001b[32m~/Documents/GitHub/Particle_Filter/examples/../filters/filter.py:343\u001b[39m, in \u001b[36mParticleFilterAll.run\u001b[39m\u001b[34m(self, initial_particles, initial_signal, n_total, key)\u001b[39m\n\u001b[32m    340\u001b[39m     particles, signal, observation = \u001b[38;5;28mself\u001b[39m.run_step(particles[-\u001b[32m1\u001b[39m,:,:], signal[-\u001b[32m1\u001b[39m,:,:], key)\n\u001b[32m    341\u001b[39m     \u001b[38;5;28;01mreturn\u001b[39;00m (particles[-\u001b[32m1\u001b[39m,:,:][\u001b[38;5;28;01mNone\u001b[39;00m,...], signal[-\u001b[32m1\u001b[39m,:,:][\u001b[38;5;28;01mNone\u001b[39;00m,...], next_key), (particles, signal, observation)\n\u001b[32m--> \u001b[39m\u001b[32m343\u001b[39m final, \u001b[38;5;28mall\u001b[39m = \u001b[43mjax\u001b[49m\u001b[43m.\u001b[49m\u001b[43mlax\u001b[49m\u001b[43m.\u001b[49m\u001b[43mscan\u001b[49m\u001b[43m(\u001b[49m\u001b[43mscan_fn\u001b[49m\u001b[43m,\u001b[49m\u001b[43m \u001b[49m\u001b[43m(\u001b[49m\u001b[43minitial_particles\u001b[49m\u001b[43m,\u001b[49m\u001b[43m \u001b[49m\u001b[43minitial_signal\u001b[49m\u001b[43m,\u001b[49m\u001b[43m \u001b[49m\u001b[43mkey\u001b[49m\u001b[43m)\u001b[49m\u001b[43m,\u001b[49m\u001b[43m \u001b[49m\u001b[43mjnp\u001b[49m\u001b[43m.\u001b[49m\u001b[43marange\u001b[49m\u001b[43m(\u001b[49m\u001b[43mn_total\u001b[49m\u001b[43m)\u001b[49m\u001b[43m)\u001b[49m\n\u001b[32m    344\u001b[39m \u001b[38;5;28;01mreturn\u001b[39;00m final, \u001b[38;5;28mall\u001b[39m\n",
      "    \u001b[31m[... skipping hidden 10 frame]\u001b[39m\n",
      "\u001b[36mFile \u001b[39m\u001b[32m~/Documents/GitHub/Particle_Filter/examples/../filters/filter.py:340\u001b[39m, in \u001b[36mParticleFilterAll.run.<locals>.scan_fn\u001b[39m\u001b[34m(val, i)\u001b[39m\n\u001b[32m    338\u001b[39m particles, signal, key = val\n\u001b[32m    339\u001b[39m key, next_key = jax.random.split(key)\n\u001b[32m--> \u001b[39m\u001b[32m340\u001b[39m particles, signal, observation = \u001b[38;5;28;43mself\u001b[39;49m\u001b[43m.\u001b[49m\u001b[43mrun_step\u001b[49m\u001b[43m(\u001b[49m\u001b[43mparticles\u001b[49m\u001b[43m[\u001b[49m\u001b[43m-\u001b[49m\u001b[32;43m1\u001b[39;49m\u001b[43m,\u001b[49m\u001b[43m:\u001b[49m\u001b[43m,\u001b[49m\u001b[43m:\u001b[49m\u001b[43m]\u001b[49m\u001b[43m,\u001b[49m\u001b[43m \u001b[49m\u001b[43msignal\u001b[49m\u001b[43m[\u001b[49m\u001b[43m-\u001b[49m\u001b[32;43m1\u001b[39;49m\u001b[43m,\u001b[49m\u001b[43m:\u001b[49m\u001b[43m,\u001b[49m\u001b[43m:\u001b[49m\u001b[43m]\u001b[49m\u001b[43m,\u001b[49m\u001b[43m \u001b[49m\u001b[43mkey\u001b[49m\u001b[43m)\u001b[49m\n\u001b[32m    341\u001b[39m \u001b[38;5;28;01mreturn\u001b[39;00m (particles[-\u001b[32m1\u001b[39m,:,:][\u001b[38;5;28;01mNone\u001b[39;00m,...], signal[-\u001b[32m1\u001b[39m,:,:][\u001b[38;5;28;01mNone\u001b[39;00m,...], next_key), (particles, signal, observation)\n",
      "\u001b[36mFile \u001b[39m\u001b[32m~/Documents/GitHub/Particle_Filter/examples/../filters/filter.py:325\u001b[39m, in \u001b[36mParticleFilterAll.run_step\u001b[39m\u001b[34m(self, particles, signal, key)\u001b[39m\n\u001b[32m    322\u001b[39m particles = \u001b[38;5;28mself\u001b[39m.predict(particles, pred_key)\n\u001b[32m    323\u001b[39m observation = \u001b[38;5;28mself\u001b[39m.observation_from_signal(signal[-\u001b[32m1\u001b[39m,:,:], obs_key)\n\u001b[32m--> \u001b[39m\u001b[32m325\u001b[39m updated_particles = \u001b[38;5;28;43mself\u001b[39;49m\u001b[43m.\u001b[49m\u001b[43mupdate\u001b[49m\u001b[43m(\u001b[49m\u001b[43mparticles\u001b[49m\u001b[43m[\u001b[49m\u001b[43m-\u001b[49m\u001b[32;43m1\u001b[39;49m\u001b[43m,\u001b[49m\u001b[43m:\u001b[49m\u001b[43m,\u001b[49m\u001b[43m:\u001b[49m\u001b[43m]\u001b[49m\u001b[43m,\u001b[49m\u001b[43m \u001b[49m\u001b[43mobservation\u001b[49m\u001b[43m,\u001b[49m\u001b[43m \u001b[49m\u001b[43msampling_key\u001b[49m\u001b[43m)\u001b[49m\n\u001b[32m    326\u001b[39m particles = particles.at[-\u001b[32m1\u001b[39m].set(updated_particles)\n\u001b[32m    327\u001b[39m \u001b[38;5;28;01mreturn\u001b[39;00m particles, signal, observation\n",
      "\u001b[36mFile \u001b[39m\u001b[32m~/Documents/GitHub/Particle_Filter/examples/../filters/filter.py:315\u001b[39m, in \u001b[36mParticleFilterAll.update\u001b[39m\u001b[34m(self, particles, observation, key)\u001b[39m\n\u001b[32m    313\u001b[39m particles_observed = jnp.zeros_like(particles)\n\u001b[32m    314\u001b[39m particles_observed = particles_observed.at[..., \u001b[38;5;28mself\u001b[39m.observation_locations].set(particles[..., \u001b[38;5;28mself\u001b[39m.observation_locations])\n\u001b[32m--> \u001b[39m\u001b[32m315\u001b[39m log_weights = \u001b[43mv_get_log_weight\u001b[49m\u001b[43m(\u001b[49m\u001b[43mparticles_observed\u001b[49m\u001b[43m,\u001b[49m\u001b[43m \u001b[49m\u001b[43mobservation\u001b[49m\u001b[43m,\u001b[49m\u001b[43m \u001b[49m\u001b[38;5;28;43mself\u001b[39;49m\u001b[43m.\u001b[49m\u001b[43msigma\u001b[49m\u001b[43m)\u001b[49m\n\u001b[32m    316\u001b[39m particles = \u001b[38;5;28mself\u001b[39m.resample(particles, jax.nn.softmax(log_weights), key)\n\u001b[32m    317\u001b[39m \u001b[38;5;28;01mreturn\u001b[39;00m particles\n",
      "    \u001b[31m[... skipping hidden 21 frame]\u001b[39m\n",
      "\u001b[36mFile \u001b[39m\u001b[32m~/Documents/GitHub/Particle_Filter/examples/../filters/filter.py:921\u001b[39m, in \u001b[36mget_log_weight\u001b[39m\u001b[34m(particle, observation, sigma)\u001b[39m\n\u001b[32m    917\u001b[39m \u001b[38;5;28;01mdef\u001b[39;00m\u001b[38;5;250m \u001b[39m\u001b[34mget_log_weight\u001b[39m(particle, observation, sigma):\n\u001b[32m    918\u001b[39m \u001b[38;5;250m    \u001b[39m\u001b[33;03m\"\"\"Returns the likelihood weight of a particle for a given observation.\u001b[39;00m\n\u001b[32m    919\u001b[39m \u001b[33;03m    # TODO: consider .reshape(-1), as to not create a copy,\u001b[39;00m\n\u001b[32m    920\u001b[39m \u001b[33;03m    \"\"\"\u001b[39;00m\n\u001b[32m--> \u001b[39m\u001b[32m921\u001b[39m     \u001b[38;5;28;01mreturn\u001b[39;00m -\u001b[32m0.5\u001b[39m*jnp.sum((\u001b[43mparticle\u001b[49m\u001b[43m.\u001b[49m\u001b[43mflatten\u001b[49m\u001b[43m(\u001b[49m\u001b[43m)\u001b[49m\u001b[43m-\u001b[49m\u001b[43mobservation\u001b[49m\u001b[43m.\u001b[49m\u001b[43mflatten\u001b[49m\u001b[43m(\u001b[49m\u001b[43m)\u001b[49m)**\u001b[32m2\u001b[39m)/sigma**\u001b[32m2\u001b[39m\n",
      "\u001b[36mFile \u001b[39m\u001b[32m~/new_environment_python/lib/python3.13/site-packages/jax/_src/numpy/array_methods.py:1060\u001b[39m, in \u001b[36m_forward_operator_to_aval.<locals>.op\u001b[39m\u001b[34m(self, *args)\u001b[39m\n\u001b[32m   1059\u001b[39m \u001b[38;5;28;01mdef\u001b[39;00m\u001b[38;5;250m \u001b[39m\u001b[34mop\u001b[39m(\u001b[38;5;28mself\u001b[39m, *args):\n\u001b[32m-> \u001b[39m\u001b[32m1060\u001b[39m   \u001b[38;5;28;01mreturn\u001b[39;00m \u001b[38;5;28;43mgetattr\u001b[39;49m\u001b[43m(\u001b[49m\u001b[38;5;28;43mself\u001b[39;49m\u001b[43m.\u001b[49m\u001b[43maval\u001b[49m\u001b[43m,\u001b[49m\u001b[43m \u001b[49m\u001b[33;43mf\u001b[39;49m\u001b[33;43m\"\u001b[39;49m\u001b[33;43m_\u001b[39;49m\u001b[38;5;132;43;01m{\u001b[39;49;00m\u001b[43mname\u001b[49m\u001b[38;5;132;43;01m}\u001b[39;49;00m\u001b[33;43m\"\u001b[39;49m\u001b[43m)\u001b[49m\u001b[43m(\u001b[49m\u001b[38;5;28;43mself\u001b[39;49m\u001b[43m,\u001b[49m\u001b[43m \u001b[49m\u001b[43m*\u001b[49m\u001b[43margs\u001b[49m\u001b[43m)\u001b[49m\n",
      "\u001b[36mFile \u001b[39m\u001b[32m~/new_environment_python/lib/python3.13/site-packages/jax/_src/numpy/array_methods.py:579\u001b[39m, in \u001b[36m_defer_to_unrecognized_arg.<locals>.deferring_binary_op\u001b[39m\u001b[34m(self, other)\u001b[39m\n\u001b[32m    577\u001b[39m args = (other, \u001b[38;5;28mself\u001b[39m) \u001b[38;5;28;01mif\u001b[39;00m swap \u001b[38;5;28;01melse\u001b[39;00m (\u001b[38;5;28mself\u001b[39m, other)\n\u001b[32m    578\u001b[39m \u001b[38;5;28;01mif\u001b[39;00m \u001b[38;5;28misinstance\u001b[39m(other, _accepted_binop_types):\n\u001b[32m--> \u001b[39m\u001b[32m579\u001b[39m   \u001b[38;5;28;01mreturn\u001b[39;00m \u001b[43mbinary_op\u001b[49m\u001b[43m(\u001b[49m\u001b[43m*\u001b[49m\u001b[43margs\u001b[49m\u001b[43m)\u001b[49m\n\u001b[32m    580\u001b[39m \u001b[38;5;66;03m# Note: don't use isinstance here, because we don't want to raise for\u001b[39;00m\n\u001b[32m    581\u001b[39m \u001b[38;5;66;03m# subclasses, e.g. NamedTuple objects that may override operators.\u001b[39;00m\n\u001b[32m    582\u001b[39m \u001b[38;5;28;01mif\u001b[39;00m \u001b[38;5;28mtype\u001b[39m(other) \u001b[38;5;129;01min\u001b[39;00m _rejected_binop_types:\n",
      "\u001b[36mFile \u001b[39m\u001b[32m~/new_environment_python/lib/python3.13/site-packages/jax/_src/numpy/ufunc_api.py:180\u001b[39m, in \u001b[36mufunc.__call__\u001b[39m\u001b[34m(self, out, where, *args)\u001b[39m\n\u001b[32m    178\u001b[39m   \u001b[38;5;28;01mraise\u001b[39;00m \u001b[38;5;167;01mNotImplementedError\u001b[39;00m(\u001b[33mf\u001b[39m\u001b[33m\"\u001b[39m\u001b[33mwhere argument of \u001b[39m\u001b[38;5;132;01m{\u001b[39;00m\u001b[38;5;28mself\u001b[39m\u001b[38;5;132;01m}\u001b[39;00m\u001b[33m\"\u001b[39m)\n\u001b[32m    179\u001b[39m call = \u001b[38;5;28mself\u001b[39m.__static_props[\u001b[33m'\u001b[39m\u001b[33mcall\u001b[39m\u001b[33m'\u001b[39m] \u001b[38;5;129;01mor\u001b[39;00m \u001b[38;5;28mself\u001b[39m._call_vectorized\n\u001b[32m--> \u001b[39m\u001b[32m180\u001b[39m \u001b[38;5;28;01mreturn\u001b[39;00m \u001b[43mcall\u001b[49m\u001b[43m(\u001b[49m\u001b[43m*\u001b[49m\u001b[43margs\u001b[49m\u001b[43m)\u001b[49m\n",
      "    \u001b[31m[... skipping hidden 14 frame]\u001b[39m\n",
      "\u001b[36mFile \u001b[39m\u001b[32m~/new_environment_python/lib/python3.13/site-packages/jax/_src/numpy/ufuncs.py:1568\u001b[39m, in \u001b[36msubtract\u001b[39m\u001b[34m(x, y)\u001b[39m\n\u001b[32m   1541\u001b[39m \u001b[38;5;129m@binary_ufunc\u001b[39m(identity=\u001b[38;5;28;01mNone\u001b[39;00m, at=_subtract_at)\n\u001b[32m   1542\u001b[39m \u001b[38;5;28;01mdef\u001b[39;00m\u001b[38;5;250m \u001b[39m\u001b[34msubtract\u001b[39m(x: ArrayLike, y: ArrayLike, /) -> Array:\n\u001b[32m   1543\u001b[39m \u001b[38;5;250m  \u001b[39m\u001b[33;03m\"\"\"Subtract two arrays element-wise.\u001b[39;00m\n\u001b[32m   1544\u001b[39m \n\u001b[32m   1545\u001b[39m \u001b[33;03m  JAX implementation of :obj:`numpy.subtract`. This is a universal function,\u001b[39;00m\n\u001b[32m   (...)\u001b[39m\u001b[32m   1566\u001b[39m \u001b[33;03m    Array([-10,  -9,  -8,  -7], dtype=int32)\u001b[39;00m\n\u001b[32m   1567\u001b[39m \u001b[33;03m  \"\"\"\u001b[39;00m\n\u001b[32m-> \u001b[39m\u001b[32m1568\u001b[39m   out = \u001b[43mlax\u001b[49m\u001b[43m.\u001b[49m\u001b[43msub\u001b[49m\u001b[43m(\u001b[49m\u001b[43m*\u001b[49m\u001b[43mpromote_args\u001b[49m\u001b[43m(\u001b[49m\u001b[33;43m\"\u001b[39;49m\u001b[33;43msubtract\u001b[39;49m\u001b[33;43m\"\u001b[39;49m\u001b[43m,\u001b[49m\u001b[43m \u001b[49m\u001b[43mx\u001b[49m\u001b[43m,\u001b[49m\u001b[43m \u001b[49m\u001b[43my\u001b[49m\u001b[43m)\u001b[49m\u001b[43m)\u001b[49m\n\u001b[32m   1569\u001b[39m   jnp_error._set_error_if_nan(out)\n\u001b[32m   1570\u001b[39m   \u001b[38;5;28;01mreturn\u001b[39;00m out\n",
      "    \u001b[31m[... skipping hidden 10 frame]\u001b[39m\n",
      "\u001b[36mFile \u001b[39m\u001b[32m~/new_environment_python/lib/python3.13/site-packages/jax/_src/lax/lax.py:135\u001b[39m, in \u001b[36m_try_broadcast_shapes\u001b[39m\u001b[34m(name, *shapes)\u001b[39m\n\u001b[32m    133\u001b[39m       result_shape.append(non_1s[\u001b[32m0\u001b[39m])\n\u001b[32m    134\u001b[39m     \u001b[38;5;28;01melse\u001b[39;00m:\n\u001b[32m--> \u001b[39m\u001b[32m135\u001b[39m       \u001b[38;5;28;01mraise\u001b[39;00m \u001b[38;5;167;01mTypeError\u001b[39;00m(\u001b[33mf\u001b[39m\u001b[33m'\u001b[39m\u001b[38;5;132;01m{\u001b[39;00mname\u001b[38;5;132;01m}\u001b[39;00m\u001b[33m got incompatible shapes for broadcasting: \u001b[39m\u001b[33m'\u001b[39m\n\u001b[32m    136\u001b[39m                       \u001b[33mf\u001b[39m\u001b[33m'\u001b[39m\u001b[38;5;132;01m{\u001b[39;00m\u001b[33m\"\u001b[39m\u001b[33m, \u001b[39m\u001b[33m\"\u001b[39m.join(\u001b[38;5;28mmap\u001b[39m(\u001b[38;5;28mstr\u001b[39m,\u001b[38;5;250m \u001b[39m\u001b[38;5;28mmap\u001b[39m(\u001b[38;5;28mtuple\u001b[39m,\u001b[38;5;250m \u001b[39mshapes)))\u001b[38;5;132;01m}\u001b[39;00m\u001b[33m.\u001b[39m\u001b[33m'\u001b[39m)\n\u001b[32m    137\u001b[39m \u001b[38;5;28;01mreturn\u001b[39;00m \u001b[38;5;28mtuple\u001b[39m(result_shape)\n",
      "\u001b[31mTypeError\u001b[39m: sub got incompatible shapes for broadcasting: (2097152,), (65536,)."
     ]
    }
   ],
   "source": [
    "da_steps = number_of_observations_time\n",
    "#print(initial_ensemble.shape, initial_signal.shape, da_steps)\n",
    "initial_ensemble = initial_ensemble[None, ...] # adding the time dimension\n",
    "initial_signal = initial_signal[None, ...] # adding the time dimension\n",
    "key = jax.random.PRNGKey(1) # random key for JAX\n",
    "final, all = pf_systematic.run(initial_ensemble, initial_signal, da_steps ,key) #the final input is scan length? \n"
   ]
  },
  {
   "cell_type": "code",
   "execution_count": null,
   "metadata": {},
   "outputs": [],
   "source": [
    "print(\"final shapes:\")\n",
    "for i, arr in enumerate(final):\n",
    "    print(f\"final[{i}]:\", arr.shape)\n",
    "\n",
    "print(\"\\nall shapes:\")\n",
    "for i, arr in enumerate(all):\n",
    "    print(f\"all[{i}]:\", arr.shape)"
   ]
  },
  {
   "cell_type": "markdown",
   "metadata": {},
   "source": [
    "The two outputs are tuples. The first tuple has length 2 and contains the final ensemble and the final signal arrays.\n",
    "The second tuple has length three and contains all outputs through time of the ensemble, signal and observation."
   ]
  },
  {
   "cell_type": "markdown",
   "metadata": {},
   "source": [
    "Put in the initial condition."
   ]
  },
  {
   "cell_type": "code",
   "execution_count": null,
   "metadata": {},
   "outputs": [],
   "source": [
    "# particles\n",
    "print(initial_ensemble.shape)\n",
    "print(all[0].shape)\n",
    "all_0_reshaped = jnp.reshape(all[0], (-1, all[0].shape[2], all[0].shape[3]))\n",
    "print(all_0_reshaped.shape)\n",
    "\n",
    "particles =jnp.concatenate([initial_ensemble[...], all_0_reshaped], axis=0)\n",
    "print(particles.shape)\n",
    "\n",
    "## signal \n",
    "print(all[1].shape)\n",
    "all_1_reshaped = jnp.reshape(all[1], (-1, all[1].shape[2], all[1].shape[3]))\n",
    "print(all_1_reshaped.shape)\n",
    "print(initial_signal.shape)\n",
    "signal = jnp.concatenate([initial_signal[...], all_1_reshaped], axis=0)\n",
    "print(signal.shape)\n",
    "\n",
    "## observations\n",
    "print(all[2].shape)\n",
    "# observations = jnp.concatenate([initial_signal[...], all[2]], axis=0)\n",
    "observations = all[2][:,:, observation_locations]\n",
    "print(observations.shape)\n"
   ]
  },
  {
   "cell_type": "code",
   "execution_count": null,
   "metadata": {},
   "outputs": [],
   "source": [
    "def plot(time):\n",
    "    plt.plot(signal_model.x, signal[time,0,:], color='k',label='signal')\n",
    "    plt.plot(signal_model.x, particles[time,:,:].T, color='b',label='particles',linewidth=0.1)\n",
    "    if (time ) % observation_temporal_frequency == 0 and time !=0:\n",
    "        plt.plot(signal_model.x[observation_locations], observations[int(time/observation_temporal_frequency),0,:], 'ro',label='observations')\n",
    "    plt.show()\n",
    "\n",
    "interact(plot, time=(0, ensemble_model.params.nt - 1, 1))"
   ]
  },
  {
   "cell_type": "code",
   "execution_count": null,
   "metadata": {},
   "outputs": [],
   "source": [
    "ensemble_params_none  = ConfigDict(KS_params_SALT)\n",
    "ensemble_params_none.update(E=128,P=32,noise_magnitude = 0.01,stochastic_advection_basis='sin')\n",
    "ensemble_model_none   = ETD_KT_CM_JAX_Vectorised(ensemble_params_none)\n",
    "initial_signal_none   = initial_condition(signal_model.x, signal_params.E, signal_params.initial_condition)\n",
    "initial_ensemble_none = initial_condition(ensemble_model.x, ensemble_params.E, ensemble_params.initial_condition)\n",
    "\n",
    "pf_none = ParticleFilterAll(\n",
    "    n_particles = ensemble_params.E,\n",
    "    n_steps = observation_temporal_frequency,\n",
    "    n_dim = initial_signal.shape[-1],\n",
    "    forward_model = ensemble_model,\n",
    "    signal_model = signal_model,\n",
    "    sigma = observation_noise,\n",
    "    resampling=\"no_resampling\",#'default',\n",
    "    observation_locations = observation_locations,\n",
    ")\n",
    "final_none, all_none = pf_none.run(initial_ensemble, initial_signal, da_steps,key) #the final input is scan length?\n",
    "initial_ensemble_none = initial_ensemble_none[None, ...] # adding the time dimension\n",
    "initial_signal_none = initial_signal_none[None, ...] # adding the time dimension\n",
    "key = jax.random.PRNGKey(1) # random key for JAX"
   ]
  },
  {
   "cell_type": "code",
   "execution_count": null,
   "metadata": {},
   "outputs": [],
   "source": [
    "final_none, all_none = pf_none.run(initial_ensemble_none, initial_signal_none, da_steps,key)"
   ]
  },
  {
   "cell_type": "code",
   "execution_count": null,
   "metadata": {},
   "outputs": [],
   "source": [
    "all_none_0_reshaped = jnp.reshape(all_none[0], (-1, all_none[0].shape[2], all_none[0].shape[3]))\n",
    "particles_none =jnp.concatenate([initial_ensemble_none[...], all_none_0_reshaped], axis=0)\n",
    "print(all_none_0_reshaped.shape)\n",
    "\n",
    "def plot_member_none(e):\n",
    "    # Calculate observation times (y-axis) and locations (x-axis)\n",
    "    obs_times = np.arange(0, particles_none.shape[0], observation_temporal_frequency )\n",
    "    obs_x = signal_model.x[observation_locations]\n",
    "\n",
    "    # For each observation time, plot scatter points at observation locations\n",
    "    for t in obs_times:\n",
    "        plt.scatter(observation_locations, [t]*len(observation_locations), color='red', s=10, label='Observations' if t == obs_times[0] else \"\")\n",
    "\n",
    "    # Optional: only show one legend entry\n",
    "    handles, labels = plt.gca().get_legend_handles_labels()\n",
    "    if handles:\n",
    "        plt.legend()\n",
    "    plt.imshow(particles_none[:, e, :], aspect='auto', origin='lower')\n",
    "    plt.title(f'Ensemble member {e} (no resampling)')\n",
    "    plt.xlabel('Space')\n",
    "    plt.ylabel('Time')\n",
    "    plt.show()\n",
    "\n",
    "interact(plot_member_none, e=(0, all_none_0_reshaped.shape[1] - 1))"
   ]
  },
  {
   "cell_type": "code",
   "execution_count": null,
   "metadata": {},
   "outputs": [],
   "source": [
    "def plot(time):\n",
    "    plt.plot(signal_model.x, signal[time,0,:], color='k',label='signal')\n",
    "    plt.plot(signal_model.x, particles[time,:,:].T, color='b',label='particles',linewidth=0.1)\n",
    "    plt.plot(signal_model.x, particles_none[time,:,:].T, color='g',label='particles (no resampling)',linewidth=0.1)\n",
    "    if (time ) % observation_temporal_frequency == 0 and time !=0:\n",
    "        plt.plot(signal_model.x[observation_locations], observations[int(time/observation_temporal_frequency),0,:], 'ro',label='observations')\n",
    "    plt.show()\n",
    "\n",
    "interact(plot, time=(0, ensemble_model.params.nt - 1, 1))"
   ]
  },
  {
   "cell_type": "code",
   "execution_count": null,
   "metadata": {},
   "outputs": [],
   "source": [
    "from metrics.ensemble import rmse, crps_internal\n",
    "subsample = 5# we sometimes have to subsample the data for speed issues can go as low as 5, for a \n",
    "signal_sub = signal[::subsample,:,:]\n",
    "particles_sub = particles[::subsample,:,:]\n",
    "particles_none_sub = particles_none[::subsample,:,:]\n",
    "# Compute RMSE and CRPS for the ensemble (with resampling)\n",
    "rmse_ensemble = rmse(signal_sub,particles_sub)\n",
    "crps_ensemble = crps_internal(signal_sub, particles_sub)#crps(signal,particles)\n",
    "\n",
    "# Compute RMSE and CRPS for the ensemble (no resampling)\n",
    "rmse_none = rmse(signal_sub,particles_none_sub)\n",
    "crps_none = crps_internal(signal_sub,particles_none_sub)\n",
    "print(\"RMSE (systematic):\", rmse_ensemble.average())\n",
    "print(\"CRPS (systematic):\", crps_ensemble)\n",
    "print(\"RMSE (no resampling):\", rmse_none)\n",
    "print(\"CRPS (no resampling):\", crps_none)\n"
   ]
  },
  {
   "cell_type": "code",
   "execution_count": null,
   "metadata": {},
   "outputs": [],
   "source": [
    "dpi=300\n",
    "plt.figure(figsize=(7, 4), dpi=dpi)\n",
    "\n",
    "# Plot RMSE with markers only at observation frequency\n",
    "obs_idx = np.arange(0, len(rmse_ensemble), observation_temporal_frequency//subsample ) #Observation temporal frequency: 125\n",
    "# should result in 32 observations for \n",
    "#obs_idx = np.arange(0, len(rmse_ensemble), observation_temporal_frequency)\n",
    "plt.plot(rmse_ensemble, color='black', marker='None', label='Particle Filter')\n",
    "plt.plot(obs_idx, rmse_ensemble[obs_idx], color='black', marker='o', linestyle='None')\n",
    "\n",
    "plt.plot(rmse_none, color='blue', marker='None', label='No Particle Filter')\n",
    "plt.plot(obs_idx, rmse_none[obs_idx], color='blue', marker='s', linestyle='None')\n",
    "# plt.plot(rmse_ensemble, color='black', marker='o', label='Particle Filter')\n",
    "# plt.plot( rmse_none, color='blue', marker='s', label='No Particle Filter')\n",
    "plt.xlabel('Lead Time (DA step)')\n",
    "plt.ylabel('RMSE')\n",
    "plt.title('RMSE')\n",
    "plt.legend()\n",
    "plt.savefig('/Users/jmw/Documents/GitHub/Particle_Filter/Saving/EX3a_KdV_PF_NPF_RMSE.png', bbox_inches='tight', dpi=dpi)\n",
    "\n",
    "plt.show()\n",
    "\n",
    "# Plot CRPS with markers only at observation frequency\n",
    "plt.figure(figsize=(7, 4), dpi=dpi)\n",
    "plt.plot(crps_ensemble, color='black', marker='None', label='Particle Filter')\n",
    "plt.plot(obs_idx, crps_ensemble[obs_idx], color='black', marker='o', linestyle='None')\n",
    "\n",
    "plt.plot(crps_none, color='blue', marker='None', label='No Particle Filter')\n",
    "plt.plot(obs_idx, crps_none[obs_idx], color='blue', marker='s', linestyle='None')\n",
    "\n",
    "plt.xlabel('Lead Time (DA step)')\n",
    "plt.ylabel('CRPS')\n",
    "plt.title('CRPS')\n",
    "plt.legend()\n",
    "plt.savefig('/Users/jmw/Documents/GitHub/Particle_Filter/Saving/EX3a_KdV_PF_NPF_CRPS.png', bbox_inches='tight', dpi=dpi)\n",
    "\n",
    "plt.show()"
   ]
  }
 ],
 "metadata": {
  "kernelspec": {
   "display_name": "new_environment_python",
   "language": "python",
   "name": "python3"
  },
  "language_info": {
   "codemirror_mode": {
    "name": "ipython",
    "version": 3
   },
   "file_extension": ".py",
   "mimetype": "text/x-python",
   "name": "python",
   "nbconvert_exporter": "python",
   "pygments_lexer": "ipython3",
   "version": "3.13.3"
  }
 },
 "nbformat": 4,
 "nbformat_minor": 2
}
