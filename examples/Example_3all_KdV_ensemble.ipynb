{
 "cells": [
  {
   "cell_type": "code",
   "execution_count": 1,
   "metadata": {},
   "outputs": [
    {
     "name": "stdout",
     "output_type": "stream",
     "text": [
      "float64\n"
     ]
    }
   ],
   "source": [
    "import os\n",
    "os.environ[\"JAX_ENABLE_X64\"] = \"true\"\n",
    "import sys\n",
    "sys.path.append('..')\n",
    "import jax\n",
    "import jax.numpy as jnp\n",
    "import matplotlib.pyplot as plt\n",
    "from ipywidgets import interact\n",
    "from ml_collections import ConfigDict\n",
    "from models.ETD_KT_CM_JAX_Vectorised import *\n",
    "from filters import resamplers\n",
    "from filters.filter import ParticleFilter\n",
    "from filters.filter import ParticleFilterAll\n",
    "from jax import config\n",
    "jax.config.update(\"jax_enable_x64\", True)\n",
    "import numpy as np"
   ]
  },
  {
   "cell_type": "markdown",
   "metadata": {},
   "source": [
    "Initialisation of a twin experiment. "
   ]
  },
  {
   "cell_type": "code",
   "execution_count": 2,
   "metadata": {},
   "outputs": [],
   "source": [
    "signal_params = ConfigDict(KDV_params_2_SALT)\n",
    "ensemble_params = ConfigDict(KDV_params_2_SALT)\n",
    "signal_params.update(E=1,P=3,noise_magnitude = 0.01,stochastic_advection_basis='sin')\n",
    "ensemble_params.update(E=128,P=3,noise_magnitude = 0.01,stochastic_advection_basis='sin')\n",
    "key = jax.random.PRNGKey(0)"
   ]
  },
  {
   "cell_type": "markdown",
   "metadata": {},
   "source": [
    "Now we specify the models, by calling the class."
   ]
  },
  {
   "cell_type": "code",
   "execution_count": 3,
   "metadata": {},
   "outputs": [
    {
     "name": "stdout",
     "output_type": "stream",
     "text": [
      "Advection_basis_name: constant\n",
      "E: 128\n",
      "Forcing_basis_name: none\n",
      "P: 3\n",
      "S: 0\n",
      "c_0: 0\n",
      "c_1: 1\n",
      "c_2: 0.0\n",
      "c_3: 2.0e-05\n",
      "c_4: 0.0\n",
      "dt: 0.001\n",
      "equation_name: KdV\n",
      "initial_condition: gaussian\n",
      "method: Dealiased_SETDRK4\n",
      "noise_magnitude: 0.01\n",
      "nt: 4000\n",
      "nx: 256\n",
      "stochastic_advection_basis: sin\n",
      "tmax: 4\n",
      "xmax: 1\n",
      "xmin: 0\n",
      " 4000\n",
      "multinomial, systematic, no_resampling, none, default\n"
     ]
    }
   ],
   "source": [
    "signal_model = ETD_KT_CM_JAX_Vectorised(signal_params)\n",
    "ensemble_model = ETD_KT_CM_JAX_Vectorised(ensemble_params)\n",
    "\n",
    "initial_signal = initial_condition(signal_model.x, signal_params.E, signal_params.initial_condition)\n",
    "initial_ensemble = initial_condition(ensemble_model.x, ensemble_params.E, ensemble_params.initial_condition)\n",
    "\n",
    "print(ensemble_model.params,ensemble_model.params.nt)\n",
    "available_resamplers = \", \".join(resamplers.keys())\n",
    "print(available_resamplers)"
   ]
  },
  {
   "cell_type": "code",
   "execution_count": 4,
   "metadata": {},
   "outputs": [
    {
     "name": "stdout",
     "output_type": "stream",
     "text": [
      "Observation temporal frequency: 125\n",
      "Observation spatial locations:[  0  32  64  96 128 160 192 224]\n"
     ]
    }
   ],
   "source": [
    "observation_spatial_frequency = 32\n",
    "observation_locations = np.arange(0,signal_model.x.shape[0],observation_spatial_frequency)\n",
    "observation_noise = 0.1\n",
    "number_of_observations_time = 32 #ensemble_model.params.nt\n",
    "observation_temporal_frequency = int(ensemble_model.params.nt/number_of_observations_time)\n",
    "print(f\"Observation temporal frequency: {observation_temporal_frequency}\")\n",
    "print(f\"Observation spatial locations:{observation_locations}\")\n",
    "pf_systematic = ParticleFilterAll(\n",
    "    n_particles = ensemble_params.E,\n",
    "    n_steps = observation_temporal_frequency,\n",
    "    n_dim = initial_signal.shape[-1],\n",
    "    forward_model = ensemble_model,\n",
    "    signal_model = signal_model,\n",
    "    sigma = observation_noise,\n",
    "    resampling=\"systematic\",#'default',\n",
    "    observation_locations = observation_locations,\n",
    ")\n"
   ]
  },
  {
   "cell_type": "markdown",
   "metadata": {},
   "source": [
    "To run the filter with all outputs, the input arrays need to have 3 dimensions.\n",
    "They are (time, n_particles, space)."
   ]
  },
  {
   "cell_type": "code",
   "execution_count": 5,
   "metadata": {},
   "outputs": [
    {
     "name": "stdout",
     "output_type": "stream",
     "text": [
      "(128, 256) (1, 256) 32\n"
     ]
    }
   ],
   "source": [
    "da_steps = number_of_observations_time\n",
    "print(initial_ensemble.shape, initial_signal.shape, da_steps)\n",
    "initial_ensemble = initial_ensemble[None, ...] # adding the time dimension\n",
    "initial_signal = initial_signal[None, ...] # adding the time dimension\n",
    "key = jax.random.PRNGKey(1) # random key for JAX\n",
    "final, all = pf_systematic.run(initial_ensemble, initial_signal, da_steps,key) #the final input is scan length? \n"
   ]
  },
  {
   "cell_type": "code",
   "execution_count": 6,
   "metadata": {},
   "outputs": [
    {
     "name": "stdout",
     "output_type": "stream",
     "text": [
      "final shapes:\n",
      "final[0]: (1, 128, 256)\n",
      "final[1]: (1, 1, 256)\n",
      "final[2]: (2,)\n",
      "\n",
      "all shapes:\n",
      "all[0]: (32, 125, 128, 256)\n",
      "all[1]: (32, 125, 1, 256)\n",
      "all[2]: (32, 1, 256)\n"
     ]
    }
   ],
   "source": [
    "print(\"final shapes:\")\n",
    "for i, arr in enumerate(final):\n",
    "    print(f\"final[{i}]:\", arr.shape)\n",
    "\n",
    "print(\"\\nall shapes:\")\n",
    "for i, arr in enumerate(all):\n",
    "    print(f\"all[{i}]:\", arr.shape)"
   ]
  },
  {
   "cell_type": "markdown",
   "metadata": {},
   "source": [
    "The two outputs are tuples. The first tuple has length 2 and contains the final ensemble and the final signal arrays.\n",
    "The second tuple has length three and contains all outputs through time of the ensemble, signal and observation."
   ]
  },
  {
   "cell_type": "markdown",
   "metadata": {},
   "source": [
    "Put in the initial condition."
   ]
  },
  {
   "cell_type": "code",
   "execution_count": 7,
   "metadata": {},
   "outputs": [
    {
     "name": "stdout",
     "output_type": "stream",
     "text": [
      "(1, 128, 256)\n",
      "(32, 125, 128, 256)\n",
      "(4000, 128, 256)\n",
      "(4001, 128, 256)\n",
      "(32, 125, 1, 256)\n",
      "(4000, 1, 256)\n",
      "(1, 1, 256)\n",
      "(4001, 1, 256)\n",
      "(32, 1, 256)\n",
      "(32, 1, 8)\n"
     ]
    }
   ],
   "source": [
    "# particles\n",
    "print(initial_ensemble.shape)\n",
    "print(all[0].shape)\n",
    "all_0_reshaped = jnp.reshape(all[0], (-1, all[0].shape[2], all[0].shape[3]))\n",
    "print(all_0_reshaped.shape)\n",
    "\n",
    "particles =jnp.concatenate([initial_ensemble[...], all_0_reshaped], axis=0)\n",
    "print(particles.shape)\n",
    "\n",
    "## signal \n",
    "print(all[1].shape)\n",
    "all_1_reshaped = jnp.reshape(all[1], (-1, all[1].shape[2], all[1].shape[3]))\n",
    "print(all_1_reshaped.shape)\n",
    "print(initial_signal.shape)\n",
    "signal = jnp.concatenate([initial_signal[...], all_1_reshaped], axis=0)\n",
    "print(signal.shape)\n",
    "\n",
    "## observations\n",
    "print(all[2].shape)\n",
    "# observations = jnp.concatenate([initial_signal[...], all[2]], axis=0)\n",
    "observations = all[2][:,:, observation_locations]\n",
    "print(observations.shape)\n"
   ]
  },
  {
   "cell_type": "code",
   "execution_count": 8,
   "metadata": {},
   "outputs": [
    {
     "data": {
      "application/vnd.jupyter.widget-view+json": {
       "model_id": "bfaea81f801349d6a97ac1e41ba421b5",
       "version_major": 2,
       "version_minor": 0
      },
      "text/plain": [
       "interactive(children=(IntSlider(value=1999, description='time', max=3999), Output()), _dom_classes=('widget-in…"
      ]
     },
     "metadata": {},
     "output_type": "display_data"
    },
    {
     "data": {
      "text/plain": [
       "<function __main__.plot(time)>"
      ]
     },
     "execution_count": 8,
     "metadata": {},
     "output_type": "execute_result"
    }
   ],
   "source": [
    "def plot(time):\n",
    "    plt.plot(signal_model.x, signal[time,0,:], color='k',label='signal')\n",
    "    plt.plot(signal_model.x, particles[time,:,:].T, color='b',label='particles',linewidth=0.1)\n",
    "    if (time ) % observation_temporal_frequency == 0 and time !=0:\n",
    "        plt.plot(signal_model.x[observation_locations], observations[int(time/observation_temporal_frequency),0,:], 'ro',label='observations')\n",
    "    plt.show()\n",
    "\n",
    "interact(plot, time=(0, ensemble_model.params.nt - 1, 1))"
   ]
  },
  {
   "cell_type": "code",
   "execution_count": 9,
   "metadata": {},
   "outputs": [],
   "source": [
    "ensemble_params_none  = ConfigDict(KS_params_SALT)\n",
    "ensemble_params_none.update(E=128,P=32,noise_magnitude = 0.01,stochastic_advection_basis='sin')\n",
    "ensemble_model_none   = ETD_KT_CM_JAX_Vectorised(ensemble_params_none)\n",
    "initial_signal_none   = initial_condition(signal_model.x, signal_params.E, signal_params.initial_condition)\n",
    "initial_ensemble_none = initial_condition(ensemble_model.x, ensemble_params.E, ensemble_params.initial_condition)\n",
    "\n",
    "pf_none = ParticleFilterAll(\n",
    "    n_particles = ensemble_params.E,\n",
    "    n_steps = observation_temporal_frequency,\n",
    "    n_dim = initial_signal.shape[-1],\n",
    "    forward_model = ensemble_model,\n",
    "    signal_model = signal_model,\n",
    "    sigma = observation_noise,\n",
    "    resampling=\"no_resampling\",#'default',\n",
    "    observation_locations = observation_locations,\n",
    ")\n",
    "final_none, all_none = pf_none.run(initial_ensemble, initial_signal, da_steps,key) #the final input is scan length?\n",
    "initial_ensemble_none = initial_ensemble_none[None, ...] # adding the time dimension\n",
    "initial_signal_none = initial_signal_none[None, ...] # adding the time dimension\n",
    "key = jax.random.PRNGKey(1) # random key for JAX"
   ]
  },
  {
   "cell_type": "code",
   "execution_count": 10,
   "metadata": {},
   "outputs": [],
   "source": [
    "final_none, all_none = pf_none.run(initial_ensemble_none, initial_signal_none, da_steps,key)"
   ]
  },
  {
   "cell_type": "code",
   "execution_count": null,
   "metadata": {},
   "outputs": [
    {
     "name": "stdout",
     "output_type": "stream",
     "text": [
      "(4000, 128, 256)\n"
     ]
    }
   ],
   "source": [
    "all_none_0_reshaped = jnp.reshape(all_none[0], (-1, all_none[0].shape[2], all_none[0].shape[3]))\n",
    "particles_none =jnp.concatenate([initial_ensemble_none[...], all_none_0_reshaped], axis=0)\n",
    "print(all_none_0_reshaped.shape)\n",
    "\n",
    "def plot_member_none(e):\n",
    "    # Calculate observation times (y-axis) and locations (x-axis)\n",
    "    obs_times = np.arange(0, particles_none.shape[0], observation_temporal_frequency )\n",
    "    obs_x = signal_model.x[observation_locations]\n",
    "\n",
    "    # For each observation time, plot scatter points at observation locations\n",
    "    for t in obs_times:\n",
    "        plt.scatter(observation_locations, [t]*len(observation_locations), color='red', s=10, label='Observations' if t == obs_times[0] else \"\")\n",
    "\n",
    "    # Optional: only show one legend entry\n",
    "    handles, labels = plt.gca().get_legend_handles_labels()\n",
    "    if handles:\n",
    "        plt.legend()\n",
    "    plt.imshow(particles_none[:, e, :], aspect='auto', origin='lower')\n",
    "    plt.title(f'Ensemble member {e} (no resampling)')\n",
    "    plt.xlabel('Space')\n",
    "    plt.ylabel('Time')\n",
    "    plt.show()\n",
    "\n",
    "interact(plot_member_none, e=(0, all_none_0_reshaped.shape[1] - 1))"
   ]
  },
  {
   "cell_type": "code",
   "execution_count": null,
   "metadata": {},
   "outputs": [],
   "source": [
    "def plot(time):\n",
    "    plt.plot(signal_model.x, signal[time,0,:], color='k',label='signal')\n",
    "    plt.plot(signal_model.x, particles[time,:,:].T, color='b',label='particles',linewidth=0.1)\n",
    "    plt.plot(signal_model.x, particles_none[time,:,:].T, color='g',label='particles (no resampling)',linewidth=0.1)\n",
    "    if (time ) % observation_temporal_frequency == 0 and time !=0:\n",
    "        plt.plot(signal_model.x[observation_locations], observations[int(time/observation_temporal_frequency),0,:], 'ro',label='observations')\n",
    "    plt.show()\n",
    "\n",
    "interact(plot, time=(0, ensemble_model.params.nt - 1, 1))"
   ]
  },
  {
   "cell_type": "code",
   "execution_count": null,
   "metadata": {},
   "outputs": [],
   "source": [
    "from metrics.ensemble import rmse, crps_internal\n",
    "subsample = 5# we sometimes have to subsample the data for speed issues can go as low as 5, for a \n",
    "signal_sub = signal[::subsample,:,:]\n",
    "particles_sub = particles[::subsample,:,:]\n",
    "particles_none_sub = particles_none[::subsample,:,:]\n",
    "# Compute RMSE and CRPS for the ensemble (with resampling)\n",
    "rmse_ensemble = rmse(signal_sub,particles_sub)\n",
    "crps_ensemble = crps_internal(signal_sub, particles_sub)#crps(signal,particles)\n",
    "\n",
    "# Compute RMSE and CRPS for the ensemble (no resampling)\n",
    "rmse_none = rmse(signal_sub,particles_none_sub)\n",
    "crps_none = crps_internal(signal_sub,particles_none_sub)\n",
    "print(\"RMSE (systematic):\", rmse_ensemble.average())\n",
    "print(\"CRPS (systematic):\", crps_ensemble)\n",
    "print(\"RMSE (no resampling):\", rmse_none)\n",
    "print(\"CRPS (no resampling):\", crps_none)\n"
   ]
  },
  {
   "cell_type": "code",
   "execution_count": null,
   "metadata": {},
   "outputs": [],
   "source": [
    "dpi=300\n",
    "plt.figure(figsize=(7, 4), dpi=dpi)\n",
    "\n",
    "# Plot RMSE with markers only at observation frequency\n",
    "obs_idx = np.arange(0, len(rmse_ensemble), observation_temporal_frequency//subsample ) #Observation temporal frequency: 125\n",
    "# should result in 32 observations for \n",
    "#obs_idx = np.arange(0, len(rmse_ensemble), observation_temporal_frequency)\n",
    "plt.plot(rmse_ensemble, color='black', marker='None', label='Particle Filter')\n",
    "plt.plot(obs_idx, rmse_ensemble[obs_idx], color='black', marker='o', linestyle='None')\n",
    "\n",
    "plt.plot(rmse_none, color='blue', marker='None', label='No Particle Filter')\n",
    "plt.plot(obs_idx, rmse_none[obs_idx], color='blue', marker='s', linestyle='None')\n",
    "# plt.plot(rmse_ensemble, color='black', marker='o', label='Particle Filter')\n",
    "# plt.plot( rmse_none, color='blue', marker='s', label='No Particle Filter')\n",
    "plt.xlabel('Lead Time (DA step)')\n",
    "plt.ylabel('RMSE')\n",
    "plt.title('RMSE')\n",
    "plt.legend()\n",
    "plt.savefig('/Users/jmw/Documents/GitHub/Particle_Filter/Saving/EX3a_KdV_PF_NPF_RMSE.png', bbox_inches='tight', dpi=dpi)\n",
    "\n",
    "plt.show()\n",
    "\n",
    "# Plot CRPS with markers only at observation frequency\n",
    "plt.figure(figsize=(7, 4), dpi=dpi)\n",
    "plt.plot(crps_ensemble, color='black', marker='None', label='Particle Filter')\n",
    "plt.plot(obs_idx, crps_ensemble[obs_idx], color='black', marker='o', linestyle='None')\n",
    "\n",
    "plt.plot(crps_none, color='blue', marker='None', label='No Particle Filter')\n",
    "plt.plot(obs_idx, crps_none[obs_idx], color='blue', marker='s', linestyle='None')\n",
    "\n",
    "plt.xlabel('Lead Time (DA step)')\n",
    "plt.ylabel('CRPS')\n",
    "plt.title('CRPS')\n",
    "plt.legend()\n",
    "plt.savefig('/Users/jmw/Documents/GitHub/Particle_Filter/Saving/EX3a_KdV_PF_NPF_CRPS.png', bbox_inches='tight', dpi=dpi)\n",
    "\n",
    "plt.show()"
   ]
  }
 ],
 "metadata": {
  "kernelspec": {
   "display_name": "new_environment_python",
   "language": "python",
   "name": "python3"
  },
  "language_info": {
   "codemirror_mode": {
    "name": "ipython",
    "version": 3
   },
   "file_extension": ".py",
   "mimetype": "text/x-python",
   "name": "python",
   "nbconvert_exporter": "python",
   "pygments_lexer": "ipython3",
   "version": "3.13.3"
  }
 },
 "nbformat": 4,
 "nbformat_minor": 2
}
