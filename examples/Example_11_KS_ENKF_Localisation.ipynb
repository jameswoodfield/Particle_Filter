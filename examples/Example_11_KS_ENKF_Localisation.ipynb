{
 "cells": [
  {
   "cell_type": "code",
   "execution_count": 1,
   "metadata": {},
   "outputs": [
    {
     "name": "stdout",
     "output_type": "stream",
     "text": [
      "float64\n"
     ]
    }
   ],
   "source": [
    "import os\n",
    "os.environ[\"JAX_ENABLE_X64\"] = \"true\"\n",
    "import sys\n",
    "sys.path.append('..')\n",
    "import jax\n",
    "import jax.numpy as jnp\n",
    "import matplotlib.pyplot as plt\n",
    "from ipywidgets import interact\n",
    "from ml_collections import ConfigDict\n",
    "from models.ETD_KT_CM_JAX_Vectorised import *\n",
    "from filters import resamplers\n",
    "from filters.filter import EnsembleKalmanFilter_Localisation_Inflation\n",
    "from jax import config\n",
    "jax.config.update(\"jax_enable_x64\", True)\n",
    "import numpy as np\n",
    "from metrics import *"
   ]
  },
  {
   "cell_type": "markdown",
   "metadata": {},
   "source": [
    "Initialisation of a twin experiment. "
   ]
  },
  {
   "cell_type": "code",
   "execution_count": 2,
   "metadata": {},
   "outputs": [],
   "source": [
    "signal_params = ConfigDict(KS_params_SALT)\n",
    "ensemble_params = ConfigDict(KS_params_SALT)\n",
    "signal_params.update(E=1,P=3,noise_magnitude = 0.03,stochastic_advection_basis='sin')\n",
    "ensemble_params.update(E=32,P=3,noise_magnitude = 0.03,stochastic_advection_basis='sin')"
   ]
  },
  {
   "cell_type": "markdown",
   "metadata": {},
   "source": [
    "Now we specify the models, by calling the class."
   ]
  },
  {
   "cell_type": "code",
   "execution_count": 3,
   "metadata": {},
   "outputs": [],
   "source": [
    "signal_model = ETD_KT_CM_JAX_Vectorised(signal_params)\n",
    "ensemble_model = ETD_KT_CM_JAX_Vectorised(ensemble_params)\n",
    "\n",
    "initial_signal = initial_condition(signal_model.x, signal_params.E, signal_params.initial_condition)\n",
    "initial_ensemble = initial_condition(ensemble_model.x, ensemble_params.E, ensemble_params.initial_condition)\n"
   ]
  },
  {
   "cell_type": "code",
   "execution_count": 4,
   "metadata": {},
   "outputs": [],
   "source": [
    "observation_spatial_frequency = 64\n",
    "observation_locations = np.arange(0,signal_model.x.shape[0],observation_spatial_frequency)\n",
    "observation_noise = 0.1\n",
    "number_of_observations_time = signal_model.params.nt//16\n",
    "observation_temporal_frequency = int(ensemble_model.params.nt/number_of_observations_time)\n",
    "\n",
    "enkf = EnsembleKalmanFilter_Localisation_Inflation(\n",
    "    n_particles = ensemble_params.E,\n",
    "    n_steps = observation_temporal_frequency,\n",
    "    n_dim = initial_signal.shape[-1],\n",
    "    forward_model = ensemble_model,\n",
    "    signal_model = signal_model,\n",
    "    sigma = observation_noise,\n",
    "    observation_locations = observation_locations,\n",
    "    inflation_factor=1.0,\n",
    "    localization_radius=1.0\n",
    ")"
   ]
  },
  {
   "cell_type": "code",
   "execution_count": 5,
   "metadata": {},
   "outputs": [],
   "source": [
    "da_steps = number_of_observations_time\n",
    "key_0 = jax.random.PRNGKey(0)\n",
    "final, all = enkf.run(initial_ensemble, initial_signal, da_steps, key_0) #the final input is scan length? \n",
    "particles, signal, observations = all\n",
    "from metrics.ensemble import crps_internal, rmse\n",
    "answer = crps_internal(signal, particles)#(particles,signal)"
   ]
  },
  {
   "cell_type": "code",
   "execution_count": null,
   "metadata": {},
   "outputs": [
    {
     "name": "stdout",
     "output_type": "stream",
     "text": [
      "all[0] shape (particles): (375, 32, 256)\n"
     ]
    },
    {
     "data": {
      "application/vnd.jupyter.widget-view+json": {
       "model_id": "e0ae440d7e634965b0e1c9412d3cc084",
       "version_major": 2,
       "version_minor": 0
      },
      "text/plain": [
       "interactive(children=(IntSlider(value=374, description='t', max=374), Output()), _dom_classes=('widget-interac…"
      ]
     },
     "metadata": {},
     "output_type": "display_data"
    },
    {
     "data": {
      "text/plain": [
       "<function __main__.plot_step(t)>"
      ]
     },
     "execution_count": 6,
     "metadata": {},
     "output_type": "execute_result"
    }
   ],
   "source": [
    "from ipywidgets import interact, IntSlider\n",
    "\n",
    "print(\"all[0] shape (particles):\", all[0].shape)\n",
    "\n",
    "def plot_step(t):\n",
    "    plt.figure(figsize=(12, 4))\n",
    "    plt.plot([],label= 'particles', color='blue', alpha=0.5)\n",
    "    plt.plot(all[0][t,:,:].T, color='blue', alpha=0.5)\n",
    "    plt.plot(all[1][t,0,:], label='Signal', color='black', linewidth=2)\n",
    "    plt.xlabel('Spatial index')\n",
    "    plt.ylabel('Value')\n",
    "    plt.title(f'Signal and Particles at time step {t}')\n",
    "    plt.grid()\n",
    "    plt.legend()\n",
    "    plt.show()\n",
    "\n",
    "interact(plot_step, t=IntSlider(min=0, max=all[0].shape[0]-1, step=1, value=all[0].shape[0]-1))\n",
    "# print(\"all[1] shape (signal):\", all[1].shape)\n",
    "# print(\"all[2] shape (observations):\", all[2].shape)\n",
    "# plt.figure(figsize=(12, 4))\n",
    "# plt.plot([],label= 'particles', color='blue', alpha=0.5)\n",
    "# plt.plot(all[0][-1,:,:].T, color='blue', alpha=0.5)\n",
    "# plt.plot(all[1][-1,0,:], label='Signal', color='black', linewidth=2)\n",
    "# plt.xlabel('Time step')\n",
    "# plt.ylabel('CRPS')\n",
    "# plt.title('CRPS over time')\n",
    "# plt.grid()\n",
    "# plt.legend()\n",
    "# plt.show()"
   ]
  },
  {
   "cell_type": "code",
   "execution_count": 7,
   "metadata": {},
   "outputs": [
    {
     "name": "stdout",
     "output_type": "stream",
     "text": [
      "Gradient w.r.t localization_radius: [-4.65672474e+107]\n"
     ]
    }
   ],
   "source": [
    "from jax import grad\n",
    "\n",
    "def loss_fn(params):\n",
    "    localization = params\n",
    "    enkf.localization_radius = localization\n",
    "    final, all = enkf.run(initial_ensemble, initial_signal, da_steps, key_0)\n",
    "    particles, signal, _ = all\n",
    "    crps = crps_internal(signal, particles)\n",
    "    return jnp.mean(crps)\n",
    "\n",
    "def loss_fn_2(params):\n",
    "    inflation, localization = params\n",
    "    enkf.inflation_factor = inflation\n",
    "    enkf.localization_radius = localization\n",
    "    final, all = enkf.run(initial_ensemble, initial_signal, da_steps, key_0)\n",
    "    particles, signal, _ = all\n",
    "    rmse = rmse(signal, particles)\n",
    "    return jnp.mean(rmse)\n",
    "\n",
    "init_params = jnp.array([0.5])\n",
    "\n",
    "# Compute gradients\n",
    "grads = grad(loss_fn)(init_params)\n",
    "print(\"Gradient w.r.t localization_radius:\", grads)\n",
    "# Simple gradient descent update\n",
    "\n",
    "\n"
   ]
  },
  {
   "cell_type": "code",
   "execution_count": 8,
   "metadata": {},
   "outputs": [
    {
     "name": "stdout",
     "output_type": "stream",
     "text": [
      "Updated params (localization_radius): [2.32836237e+107]\n"
     ]
    }
   ],
   "source": [
    "learning_rate = 0.5\n",
    "new_params = init_params - learning_rate * grads\n",
    "print(\"Updated params (localization_radius):\", new_params)"
   ]
  },
  {
   "cell_type": "code",
   "execution_count": 9,
   "metadata": {},
   "outputs": [],
   "source": [
    "from jax import jit\n",
    "jit_loss_fn = jit(loss_fn)\n",
    "localisation_floor = jnp.linspace(0,1,100)\n",
    "localisation_landscape = jnp.linspace(0,1,100)\n",
    "for i in range(len(localisation_landscape)):\n",
    "    localisation_landscape = localisation_landscape.at[i].set(jit_loss_fn(localisation_floor[i]))\n",
    "\n",
    "# this requires E=128 ensemble members at nx=256 resolution, with nt=4000 timesteps and global space time crps calculations, \n",
    "# over 100 times at different localisation radii. \n",
    "# this takes about 25 secs"
   ]
  },
  {
   "cell_type": "code",
   "execution_count": 10,
   "metadata": {},
   "outputs": [
    {
     "data": {
      "image/png": "[encoded data removed]",
      "text/plain": [
       "<Figure size 640x480 with 1 Axes>"
      ]
     },
     "metadata": {},
     "output_type": "display_data"
    }
   ],
   "source": [
    "plt.plot(localisation_floor, localisation_landscape)\n",
    "plt.xlabel('localisation radius')\n",
    "plt.ylabel('CRPS')\n",
    "plt.title('CRPS landscape for ENKF localisation radius')\n",
    "plt.grid()\n",
    "\n",
    "plt.show()"
   ]
  },
  {
   "cell_type": "code",
   "execution_count": null,
   "metadata": {},
   "outputs": [],
   "source": [
    "from jax import jit\n",
    "\n",
    "# JIT compile the loss and grad functions\n",
    "\n",
    "jit_loss_fn = jit(loss_fn)\n",
    "jit_grad_fn = jit(grad(loss_fn))\n",
    "\n",
    "learning_rate = 0.05\n",
    "params = init_params\n",
    "for i in range(100):\n",
    "    grads = jit_grad_fn(params)\n",
    "    params = params - learning_rate * grads\n",
    "    if i % 1 == 0:\n",
    "        print(f\"Step {i}: params = {params}, loss = {jit_loss_fn(params)}\")\n",
    "print(\"Final learned params:\", params)"
   ]
  },
  {
   "cell_type": "code",
   "execution_count": null,
   "metadata": {},
   "outputs": [],
   "source": [
    "import optax\n",
    "#init_params = jnp.array([enkf.inflation_factor, enkf.localization_radius])\n",
    "inflation_factor = 1.0\n",
    "localization_radius = 0.05\n",
    "\n",
    "enkf_1 = EnsembleKalmanFilter_Localisation_Inflation(\n",
    "    n_particles = ensemble_params.E,\n",
    "    n_steps = observation_temporal_frequency,\n",
    "    n_dim = initial_signal.shape[-1],\n",
    "    forward_model = ensemble_model,\n",
    "    signal_model = signal_model,\n",
    "    sigma = observation_noise,\n",
    "    observation_locations = observation_locations,\n",
    "    inflation_factor=inflation_factor,\n",
    "    localization_radius=localization_radius\n",
    ")\n",
    "\n",
    "def loss_fn(params):\n",
    "    inflation, localization = params\n",
    "    enkf_1.inflation_factor = inflation\n",
    "    enkf_1.localization_radius = localization\n",
    "    final, all = enkf_1.run(initial_ensemble, initial_signal, da_steps, key_0)\n",
    "    particles, signal, _ = all\n",
    "    crps = crps_internal(signal, particles)\n",
    "    return jnp.mean(crps)\n",
    "\n",
    "jit_loss_fn = jit(loss_fn)\n",
    "jit_grad_fn = jit(grad(loss_fn))\n",
    "\n",
    "params = jnp.array([inflation_factor, localization_radius])\n",
    "\n",
    "loss_history = []\n",
    "params_history = []\n",
    "\n",
    "# Set up Adam optimizer\n",
    "optimizer = optax.adam(learning_rate=0.05)\n",
    "opt_state = optimizer.init(init_params)\n",
    "#params = init_params\n",
    "\n",
    "for i in range(100):\n",
    "    grads = jit_grad_fn(params)\n",
    "    updates, opt_state = optimizer.update(grads, opt_state, params)\n",
    "    params = optax.apply_updates(params, updates)\n",
    "    loss = jit_loss_fn(params)\n",
    "    loss_history.append(loss)\n",
    "    params_history.append(np.array(params))\n",
    "    if i % 1 == 0:\n",
    "        print(f\"Step {i}: params = {params}, loss = {loss}\")\n",
    "print(\"Final learned params:\", params)"
   ]
  },
  {
   "cell_type": "code",
   "execution_count": null,
   "metadata": {},
   "outputs": [],
   "source": [
    "time_step = da_steps \n",
    "print(\"Time step shape:\", time_step)\n",
    "def interactive_plot(time_step):\n",
    "    plt.figure(figsize=(10, 5))\n",
    "    plt.plot(signal_model.x, signal[time_step, 0, :], color='k', label='signal')\n",
    "    plt.plot(signal_model.x, particles[time_step, :, :].T, color='b', alpha=0.3, linewidth=0.5, label='particles')\n",
    "    plt.xlabel('x')\n",
    "    plt.ylabel('Value')\n",
    "    plt.title(f'Signal and Particles at time Step {time_step}')\n",
    "    plt.legend(['signal', 'particles'])\n",
    "    plt.show()\n",
    "\n",
    "interact(interactive_plot, time_step=(0, int(da_steps)-1, 1))"
   ]
  },
  {
   "cell_type": "markdown",
   "metadata": {},
   "source": [
    "Put in the initial condition."
   ]
  }
 ],
 "metadata": {
  "kernelspec": {
   "display_name": "new_environment_python",
   "language": "python",
   "name": "python3"
  },
  "language_info": {
   "codemirror_mode": {
    "name": "ipython",
    "version": 3
   },
   "file_extension": ".py",
   "mimetype": "text/x-python",
   "name": "python",
   "nbconvert_exporter": "python",
   "pygments_lexer": "ipython3",
   "version": "3.13.3"
  }
 },
 "nbformat": 4,
 "nbformat_minor": 2
}
