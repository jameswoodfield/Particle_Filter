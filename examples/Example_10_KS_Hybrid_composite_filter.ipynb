{
 "cells": [
  {
   "cell_type": "markdown",
   "metadata": {},
   "source": [
    "## Here we test the stochastic KS equation with different particle filters and Ensemble Kalman Filters."
   ]
  },
  {
   "cell_type": "code",
   "execution_count": 1,
   "metadata": {},
   "outputs": [
    {
     "name": "stdout",
     "output_type": "stream",
     "text": [
      "float64\n"
     ]
    }
   ],
   "source": [
    "import os\n",
    "os.environ[\"JAX_ENABLE_X64\"] = \"true\"\n",
    "import sys\n",
    "sys.path.append('..')\n",
    "import jax\n",
    "import jax.numpy as jnp\n",
    "import matplotlib.pyplot as plt\n",
    "from ipywidgets import interact\n",
    "from ml_collections import ConfigDict\n",
    "from models.ETD_KT_CM_JAX_Vectorised import *\n",
    "from filters import resamplers\n",
    "from filters.filter import Hybrid_composed_ParticleFilter_of_EnKF, EnsembleKalmanFilter, ParticleFilter\n",
    "from filters.filter import ParticleFilterAll, ParticleFilter_Sequential\n",
    "from jax import config\n",
    "jax.config.update(\"jax_enable_x64\", True)\n",
    "import numpy as np"
   ]
  },
  {
   "cell_type": "markdown",
   "metadata": {},
   "source": [
    "Initialisation of a twin experiment. "
   ]
  },
  {
   "cell_type": "code",
   "execution_count": 2,
   "metadata": {},
   "outputs": [
    {
     "name": "stdout",
     "output_type": "stream",
     "text": [
      "Advection_basis_name: none\n",
      "E: 1\n",
      "Forcing_basis_name: sin\n",
      "P: 32\n",
      "S: 1\n",
      "c_0: 0\n",
      "c_1: 1\n",
      "c_2: 1\n",
      "c_3: 0.0\n",
      "c_4: 1\n",
      "dt: 0.25\n",
      "equation_name: Kuramoto-Sivashinsky\n",
      "initial_condition: Kassam_Trefethen_KS_IC\n",
      "method: Dealiased_SETDRK4_forced\n",
      "noise_magnitude: 0.001\n",
      "nt: 600\n",
      "nx: 256\n",
      "stochastic_advection_basis: none\n",
      "tmax: 150\n",
      "xmax: 100.53096491487338\n",
      "xmin: 0\n",
      "\n"
     ]
    }
   ],
   "source": [
    "signal_params = ConfigDict(KS_params_SALT)\n",
    "ensemble_params = ConfigDict(KS_params_SALT)\n",
    "\n",
    "signal_params = ConfigDict(KS_params_Force)\n",
    "ensemble_params = ConfigDict(KS_params_Force)\n",
    "\n",
    "\n",
    "signal_params.update(E=1,P=32,stochastic_advection_basis='none')\n",
    "ensemble_params.update(E=128,P=32,stochastic_advection_basis='none')\n",
    "print(signal_params)\n"
   ]
  },
  {
   "cell_type": "markdown",
   "metadata": {},
   "source": [
    "Now we specify the models, by calling the class."
   ]
  },
  {
   "cell_type": "code",
   "execution_count": 3,
   "metadata": {},
   "outputs": [
    {
     "name": "stdout",
     "output_type": "stream",
     "text": [
      "multinomial, systematic, no_resampling, none, default\n"
     ]
    }
   ],
   "source": [
    "signal_model = ETD_KT_CM_JAX_Vectorised(signal_params)\n",
    "ensemble_model = ETD_KT_CM_JAX_Vectorised(ensemble_params)\n",
    "\n",
    "initial_signal = initial_condition(signal_model.x, signal_params.E, signal_params.initial_condition)\n",
    "initial_ensemble = initial_condition(ensemble_model.x, ensemble_params.E, ensemble_params.initial_condition)\n",
    "\n",
    "available_resamplers = \", \".join(resamplers.keys())\n",
    "print(available_resamplers)"
   ]
  },
  {
   "cell_type": "code",
   "execution_count": 4,
   "metadata": {},
   "outputs": [
    {
     "name": "stdout",
     "output_type": "stream",
     "text": [
      "[  0   8  16  24  32  40  48  56  64  72  80  88  96 104 112 120 128 136\n",
      " 144 152 160 168 176 184 192 200 208 216 224 232 240 248]\n",
      "8\n"
     ]
    }
   ],
   "source": [
    "observation_spatial_frequency = 8 # 4\n",
    "observation_locations = np.arange(0,signal_model.x.shape[0],observation_spatial_frequency)\n",
    "observation_noise = .1\n",
    "number_of_observations_time = int(ensemble_model.params.nt/8) # ensemble_model.params.nt/1\n",
    "observation_temporal_frequency = int(ensemble_model.params.nt/number_of_observations_time)\n",
    "\n",
    "print(observation_locations)\n",
    "print(observation_temporal_frequency)\n",
    "pf_systematic = ParticleFilter(\n",
    "    n_particles = ensemble_params.E,\n",
    "    n_steps = observation_temporal_frequency,\n",
    "    n_dim = initial_signal.shape[-1],\n",
    "    forward_model = ensemble_model,\n",
    "    signal_model = signal_model,\n",
    "    sigma = observation_noise,\n",
    "    resampling=\"systematic\",#\"none\",#\"systematic\",#'default',\n",
    "    observation_locations = observation_locations,\n",
    ")\n",
    "\n",
    "pf_tj = Hybrid_composed_ParticleFilter_of_EnKF(\n",
    "    n_particles = ensemble_params.E,\n",
    "    n_steps = observation_temporal_frequency,\n",
    "    n_dim = initial_signal.shape[-1],\n",
    "    forward_model = ensemble_model,\n",
    "    signal_model = signal_model,\n",
    "    sigma = observation_noise,\n",
    "    ess_threshold=100,#25,# above one always resamples, zero never resamples\n",
    "    resampling=\"systematic\",#'default',\n",
    "    observation_locations = observation_locations,\n",
    ")\n",
    "\n",
    "# pf_tj = ParticleFilter_tempered_jittered(\n",
    "#     n_particles = ensemble_params.E,\n",
    "#     n_steps = observation_temporal_frequency,\n",
    "#     n_dim = initial_signal.shape[-1],\n",
    "#     forward_model = ensemble_model,\n",
    "#     signal_model = signal_model,\n",
    "#     sigma = observation_noise,\n",
    "#     ess_threshold=0.5,#25,# above one always resamples, zero never resamples\n",
    "#     resampling=\"systematic\",#'default',\n",
    "#     observation_locations = observation_locations,\n",
    "#     jitter_magnitude=0.01,  # Adjust the jitter magnitude as needed\n",
    "#     tempering_steps=10,  # Number of tempering steps\n",
    "# )\n",
    "\n",
    "\n",
    "kal = EnsembleKalmanFilter(\n",
    "    n_particles = ensemble_params.E,\n",
    "    n_steps = observation_temporal_frequency,\n",
    "    n_dim = initial_signal.shape[-1],\n",
    "    forward_model = ensemble_model,\n",
    "    signal_model = signal_model,\n",
    "    sigma = observation_noise,\n",
    "    observation_locations = observation_locations,\n",
    ")"
   ]
  },
  {
   "cell_type": "code",
   "execution_count": 5,
   "metadata": {},
   "outputs": [
    {
     "name": "stdout",
     "output_type": "stream",
     "text": [
      "(128,) (1, 256) (128, 256) (2,)\n"
     ]
    }
   ],
   "source": [
    "key = jax.random.PRNGKey(0)\n",
    "initial_weights = jnp.ones(ensemble_params.E) / ensemble_params.E\n",
    "print(initial_weights.shape, initial_signal.shape, initial_ensemble.shape, key.shape)\n",
    "# pf_tj_out = pf_tj.run_step(initial_ensemble, initial_signal, key)\n",
    "pf_tj_out = pf_tj.run_step(initial_ensemble, initial_weights, initial_signal, key)\n",
    "\n",
    "out = pf_systematic.run_step(initial_ensemble, initial_signal, key)\n",
    "out_kal = kal.run_step(initial_ensemble, initial_signal, key)"
   ]
  },
  {
   "cell_type": "code",
   "execution_count": 6,
   "metadata": {},
   "outputs": [
    {
     "name": "stdout",
     "output_type": "stream",
     "text": [
      "3\n",
      "(128, 256) (1, 256) (1, 256)\n"
     ]
    },
    {
     "data": {
      "text/plain": [
       "Array(32, dtype=int64)"
      ]
     },
     "execution_count": 6,
     "metadata": {},
     "output_type": "execute_result"
    }
   ],
   "source": [
    "print(len(out))\n",
    "ps, ss, obser = out\n",
    "print(ps.shape, ss.shape, obser.shape)\n",
    "jnp.count_nonzero(obser)"
   ]
  },
  {
   "cell_type": "code",
   "execution_count": 7,
   "metadata": {},
   "outputs": [
    {
     "name": "stdout",
     "output_type": "stream",
     "text": [
      "pf_all_out[0] shape: (128, 256)\n",
      "pf_all_out[1] shape: (128,)\n",
      "pf_all_out[2] shape: (1, 256)\n",
      "pf_all_out[3] shape: (1, 256)\n"
     ]
    }
   ],
   "source": [
    "for i, arr in enumerate(pf_tj_out):\n",
    "    print(f\"pf_all_out[{i}] shape:\", arr.shape)# 8 timesteps, 128 particles, 32 spatial locations, 256 total space locations"
   ]
  },
  {
   "cell_type": "code",
   "execution_count": 8,
   "metadata": {},
   "outputs": [],
   "source": [
    "da_steps = number_of_observations_time\n",
    "key = jax.random.PRNGKey(0)\n",
    "final, all = pf_systematic.run(initial_ensemble, initial_signal, da_steps,key) #the final input is scan length? "
   ]
  },
  {
   "cell_type": "code",
   "execution_count": 9,
   "metadata": {},
   "outputs": [],
   "source": [
    "final_kal, all_kal = kal.run(initial_ensemble, initial_signal, da_steps,key) #the final input is scan length?"
   ]
  },
  {
   "cell_type": "code",
   "execution_count": 10,
   "metadata": {},
   "outputs": [],
   "source": [
    "# final_tj, all_tj = pf_tj.run(initial_ensemble, initial_signal, da_steps, key) \n",
    "final_tj, all_tj = pf_tj.run(initial_ensemble, initial_weights,initial_signal, da_steps, key) "
   ]
  },
  {
   "cell_type": "markdown",
   "metadata": {},
   "source": [
    "Put in the initial condition."
   ]
  },
  {
   "cell_type": "code",
   "execution_count": 11,
   "metadata": {},
   "outputs": [
    {
     "name": "stdout",
     "output_type": "stream",
     "text": [
      "(75, 1, 32)\n",
      "(76, 128, 256)\n",
      "(75, 1, 32)\n",
      "(76, 128, 256)\n",
      "(75, 1, 32)\n",
      "(76, 128, 256)\n"
     ]
    }
   ],
   "source": [
    "particles =jnp.concatenate([initial_ensemble[None,...], all[0]], axis=0)\n",
    "signal = jnp.concatenate([initial_signal[None,...], all[1]], axis=0)\n",
    "observations = jnp.concatenate([initial_signal[None,...], all[2]], axis=0)\n",
    "observations = all[2][:,:, observation_locations]\n",
    "print(observations.shape)\n",
    "print(particles.shape)\n",
    "\n",
    "particles_kal = jnp.concatenate([initial_ensemble[None, ...], all_kal[0]], axis=0)\n",
    "signal_kal = jnp.concatenate([initial_signal[None, ...], all_kal[1]], axis=0)\n",
    "observations_kal = jnp.concatenate([initial_signal[None, ...], all_kal[2]], axis=0)\n",
    "observations_kal = all_kal[2][:, :, observation_locations]\n",
    "print(observations_kal.shape)\n",
    "print(particles_kal.shape)\n",
    "\n",
    "particles_tj = jnp.concatenate([initial_ensemble[None, ...], all_tj[0]], axis=0)\n",
    "# signal_tj = jnp.concatenate([initial_signal[None, ...], all_tj[1]], axis=0)\n",
    "# observations_tj = jnp.concatenate([initial_signal[None, ...], all_tj[2]], axis=0)\n",
    "signal_tj = jnp.concatenate([initial_signal[None, ...], all_tj[2]], axis=0)\n",
    "observations_tj = jnp.concatenate([initial_signal[None, ...], all_tj[3]], axis=0)\n",
    "observations_tj = all_tj[2][:, :, observation_locations]\n",
    "print(observations_kal.shape)\n",
    "print(particles_kal.shape)"
   ]
  },
  {
   "cell_type": "code",
   "execution_count": 15,
   "metadata": {},
   "outputs": [
    {
     "data": {
      "application/vnd.jupyter.widget-view+json": {
       "model_id": "92acac6eeafa4a9ca2f838031246b94a",
       "version_major": 2,
       "version_minor": 0
      },
      "text/plain": [
       "interactive(children=(IntSlider(value=37, description='da_step', max=75), Output()), _dom_classes=('widget-int…"
      ]
     },
     "metadata": {},
     "output_type": "display_data"
    },
    {
     "data": {
      "text/plain": [
       "<function __main__.plot_all(da_step)>"
      ]
     },
     "execution_count": 15,
     "metadata": {},
     "output_type": "execute_result"
    }
   ],
   "source": [
    "def plot_all(da_step):\n",
    "    # Plot particles_tj (tempered-jittered)\n",
    "    \n",
    "    plt.figure(figsize=(12, 6))\n",
    "    plt.plot(signal_model.x, particles_tj[da_step, 0, :].T, color='orange', label='Particles TJ', linewidth=0.5)\n",
    "    plt.plot(signal_model.x, particles_tj[da_step, :, :].T, color='orange', linewidth=0.5, alpha=0.5)\n",
    "    # Plot signal\n",
    "    plt.plot(signal_model.x, signal[da_step, 0, :], color='k', label='Signal', linewidth=3)\n",
    "    # Plot all particles\n",
    "    plt.plot(signal_model.x, (particles[da_step, 0, :]).T, color='b', linewidth=0.05, alpha=0.5, label='Particles')\n",
    "\n",
    "    plt.plot(signal_model.x, (particles[da_step, :, :]).T, color='b', linewidth=0.05, alpha=0.5)\n",
    "    plt.plot(signal_model.x, particles_kal[da_step, 0, :].T, color='g', label='ENKF', linewidth=0.5)\n",
    "    plt.plot(signal_model.x, particles_kal[da_step, :, :].T, color='g', linewidth=0.5)\n",
    "\n",
    "    # Plot observations\n",
    "    if da_step > 0:\n",
    "        plt.scatter(signal_model.x[observation_locations], observations[da_step - 1, 0, :], color='r', label='Observations', zorder=5)\n",
    "    plt.xlabel('Spatial Domain', fontsize=14)\n",
    "    plt.ylabel('Amplitude', fontsize=14)\n",
    "    plt.title(f'Data Assimilation Step {da_step}', fontsize=16)\n",
    "    plt.legend(fontsize=12)\n",
    "    plt.grid(True, linestyle='--', alpha=0.7)\n",
    "    plt.show()\n",
    "\n",
    "interact(plot_all, da_step=(0, da_steps))"
   ]
  }
 ],
 "metadata": {
  "kernelspec": {
   "display_name": "new_environment_python",
   "language": "python",
   "name": "python3"
  },
  "language_info": {
   "codemirror_mode": {
    "name": "ipython",
    "version": 3
   },
   "file_extension": ".py",
   "mimetype": "text/x-python",
   "name": "python",
   "nbconvert_exporter": "python",
   "pygments_lexer": "ipython3",
   "version": "3.13.3"
  }
 },
 "nbformat": 4,
 "nbformat_minor": 2
}
