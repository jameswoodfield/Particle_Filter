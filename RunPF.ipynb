{
 "cells": [
  {
   "cell_type": "markdown",
   "metadata": {},
   "source": [
    "## An example of how to run a particle filter"
   ]
  },
  {
   "cell_type": "markdown",
   "metadata": {},
   "source": [
    "Import External Libraries"
   ]
  },
  {
   "cell_type": "code",
   "execution_count": null,
   "metadata": {},
   "outputs": [],
   "source": [
    "import jax\n",
    "import jax.numpy as jnp\n",
    "import matplotlib.pyplot as plt\n",
    "from ipywidgets import interact\n",
    "from ml_collections import ConfigDict\n",
    "from pathlib import Path\n",
    "import yaml"
   ]
  },
  {
   "cell_type": "markdown",
   "metadata": {},
   "source": [
    "Import Filter and Model Code"
   ]
  },
  {
   "cell_type": "code",
   "execution_count": null,
   "metadata": {},
   "outputs": [
    {
     "name": "stdout",
     "output_type": "stream",
     "text": [
      "float32\n"
     ]
    }
   ],
   "source": [
    "from models.equation import Solver1D\n",
    "from models.init_cond import get_initial_condition\n",
    "from filters import resamplers\n",
    "from filters.filter import ParticleFilter\n",
    "import metrics.ensemble as ens_metrics\n"
   ]
  },
  {
   "cell_type": "code",
   "execution_count": null,
   "metadata": {},
   "outputs": [
    {
     "name": "stdout",
     "output_type": "stream",
     "text": [
      "Available config files:\n",
      "config.yaml: config/config.yaml\n",
      "Burgers.yaml: config/model/Burgers.yaml\n",
      "HeatEquation.yaml: config/model/HeatEquation.yaml\n",
      "Korteweg-de-Vries.yaml: config/model/Korteweg-de-Vries.yaml\n",
      "KdV_SALT.yaml: config/model/KdV_SALT.yaml\n",
      "Kuramoto-Sivashinsky.yaml: config/model/Kuramoto-Sivashinsky.yaml\n",
      "KdV_det.yaml: config/model/KdV_det.yaml\n",
      "filter.yaml: config/filter/filter.yaml\n"
     ]
    }
   ],
   "source": [
    "config_path = Path('config/')\n",
    "config_files = list(config_path.glob('**/*.yaml'))\n",
    "print('Available config files:')\n",
    "for i, f in enumerate(config_files):\n",
    "    config_avail = {f.name: f for i, f in enumerate(config_files)}\n",
    "for key, value in config_avail.items():\n",
    "    print(f\"{key}: {value}\")"
   ]
  },
  {
   "cell_type": "code",
   "execution_count": null,
   "metadata": {},
   "outputs": [],
   "source": [
    "jax.config.update(\"jax_platform_name\", \"cpu\")\n",
    "jax.config.update(\"jax_enable_x64\", True)"
   ]
  },
  {
   "cell_type": "code",
   "execution_count": null,
   "metadata": {},
   "outputs": [
    {
     "name": "stdout",
     "output_type": "stream",
     "text": [
      "{'equation_name': 'KdV', 'c_0': 0, 'c_1': 1, 'c_2': 0.0, 'c_3': 2e-05, 'c_4': 0.0, 'xmin': 0, 'xmax': 1, 'nx': 256, 'P': 1, 'S': 0, 'E': 1, 'tmax': 1, 'dt': 0.001, 'noise_magnitude': 0.0, 'initial_condition': 'gaussian', 'method': 'Dealiased_SETDRK4', 'Advection_basis_name': 'none', 'Forcing_basis_name': 'none'}\n",
      "Advection_basis_name: none\n",
      "E: 1\n",
      "Forcing_basis_name: none\n",
      "P: 1\n",
      "S: 0\n",
      "c_0: 0\n",
      "c_1: 1\n",
      "c_2: 0.0\n",
      "c_3: 2.0e-05\n",
      "c_4: 0.0\n",
      "dt: 0.001\n",
      "equation_name: KdV\n",
      "initial_condition: gaussian\n",
      "method: Dealiased_SETDRK4\n",
      "noise_magnitude: 0.0\n",
      "nx: 256\n",
      "tmax: 1\n",
      "xmax: 1\n",
      "xmin: 0\n",
      "\n"
     ]
    }
   ],
   "source": [
    "KDV_params = yaml.load(open(config_avail['KdV_det.yaml']), Loader=yaml.FullLoader)\n",
    "print(KDV_params)\n",
    "signal_params = ConfigDict(KDV_params)\n",
    "\n",
    "print(signal_params)"
   ]
  },
  {
   "cell_type": "code",
   "execution_count": null,
   "metadata": {},
   "outputs": [
    {
     "name": "stdout",
     "output_type": "stream",
     "text": [
      "Advection_basis_name: constant\n",
      "E: 10\n",
      "Forcing_basis_name: none\n",
      "P: 1\n",
      "S: 0\n",
      "c_0: 0\n",
      "c_1: 1\n",
      "c_2: 0.0\n",
      "c_3: 2.0e-05\n",
      "c_4: 0.0\n",
      "dt: 0.001\n",
      "equation_name: KdV\n",
      "initial_condition: gaussian\n",
      "method: Dealiased_SETDRK4\n",
      "noise_magnitude: 0.01\n",
      "nx: 256\n",
      "tmax: 1\n",
      "xmax: 1\n",
      "xmin: 0\n",
      "\n"
     ]
    }
   ],
   "source": [
    "KDV_SALT = yaml.load(open(config_avail['KdV_SALT.yaml']), Loader=yaml.FullLoader)\n",
    "ensemble_params = ConfigDict(KDV_SALT)\n",
    "print(ensemble_params)"
   ]
  },
  {
   "cell_type": "code",
   "execution_count": null,
   "metadata": {},
   "outputs": [],
   "source": [
    "signal_params.update(E=1,method='Dealiased_ETDRK4',P=1,S=0,tmax=4,nmax=256*4)\n",
    "ensemble_params.update(E=128,noise_magnitude=0.001,P=32,tmax=4,nmax=256*4)"
   ]
  },
  {
   "cell_type": "code",
   "execution_count": null,
   "metadata": {},
   "outputs": [
    {
     "name": "stdout",
     "output_type": "stream",
     "text": [
      "multinomial, systematic, no_resampling, none, default\n"
     ]
    }
   ],
   "source": [
    "signal_model_1 = Solver1D(signal_params)\n",
    "signal_model_2 = Solver1D(signal_params)\n",
    "signal_model_3 = Solver1D(signal_params)\n",
    "\n",
    "ensemble_model_1 = Solver1D(ensemble_params)\n",
    "ensemble_model_2 = Solver1D(ensemble_params)\n",
    "ensemble_model_3 = Solver1D(ensemble_params)\n",
    "\n",
    "initial_signal = get_initial_condition(signal_model_1.x, signal_params.E, signal_params.initial_condition)\n",
    "initial_ensemble = get_initial_condition(ensemble_model_1.x, ensemble_params.E, ensemble_params.initial_condition)\n",
    "available_resamplers = \", \".join(resamplers.keys())\n",
    "print(available_resamplers)"
   ]
  },
  {
   "cell_type": "code",
   "execution_count": null,
   "metadata": {},
   "outputs": [
    {
     "ename": "TypeError",
     "evalue": "ParticleFilter.__init__() got an unexpected keyword argument 'seed'",
     "output_type": "error",
     "traceback": [
      "\u001b[31m---------------------------------------------------------------------------\u001b[39m",
      "\u001b[31mTypeError\u001b[39m                                 Traceback (most recent call last)",
      "\u001b[36mCell\u001b[39m\u001b[36m \u001b[39m\u001b[32mIn[9]\u001b[39m\u001b[32m, line 5\u001b[39m\n\u001b[32m      3\u001b[39m observation_locations_params = jnp.arange(\u001b[32m0\u001b[39m,\u001b[38;5;28mlen\u001b[39m(signal_model_1.x),obs_frequency)\n\u001b[32m      4\u001b[39m \u001b[38;5;66;03m#observation_locations_params = None\u001b[39;00m\n\u001b[32m----> \u001b[39m\u001b[32m5\u001b[39m pf_multinomial = \u001b[43mParticleFilter\u001b[49m\u001b[43m(\u001b[49m\n\u001b[32m      6\u001b[39m \u001b[43m    \u001b[49m\u001b[43mn_particles\u001b[49m\u001b[43m \u001b[49m\u001b[43m=\u001b[49m\u001b[43m \u001b[49m\u001b[43mensemble_params\u001b[49m\u001b[43m.\u001b[49m\u001b[43mE\u001b[49m\u001b[43m,\u001b[49m\n\u001b[32m      7\u001b[39m \u001b[43m    \u001b[49m\u001b[43mn_steps\u001b[49m\u001b[43m \u001b[49m\u001b[43m=\u001b[49m\u001b[43m \u001b[49m\u001b[32;43m1\u001b[39;49m\u001b[43m,\u001b[49m\n\u001b[32m      8\u001b[39m \u001b[43m    \u001b[49m\u001b[43mn_dim\u001b[49m\u001b[43m \u001b[49m\u001b[43m=\u001b[49m\u001b[43m \u001b[49m\u001b[43minitial_signal\u001b[49m\u001b[43m.\u001b[49m\u001b[43mshape\u001b[49m\u001b[43m[\u001b[49m\u001b[43m-\u001b[49m\u001b[32;43m1\u001b[39;49m\u001b[43m]\u001b[49m\u001b[43m,\u001b[49m\n\u001b[32m      9\u001b[39m \u001b[43m    \u001b[49m\u001b[43mforward_model\u001b[49m\u001b[43m \u001b[49m\u001b[43m=\u001b[49m\u001b[43m \u001b[49m\u001b[43mensemble_model_1\u001b[49m\u001b[43m,\u001b[49m\n\u001b[32m     10\u001b[39m \u001b[43m    \u001b[49m\u001b[43msignal_model\u001b[49m\u001b[43m \u001b[49m\u001b[43m=\u001b[49m\u001b[43m \u001b[49m\u001b[43msignal_model_1\u001b[49m\u001b[43m,\u001b[49m\n\u001b[32m     11\u001b[39m \u001b[43m    \u001b[49m\u001b[43msigma\u001b[49m\u001b[43m \u001b[49m\u001b[43m=\u001b[49m\u001b[43m \u001b[49m\u001b[43mobservation_noise\u001b[49m\u001b[43m,\u001b[49m\u001b[38;5;66;43;03m# this seems to be different than the sigma for the xi.\u001b[39;49;00m\n\u001b[32m     12\u001b[39m \u001b[43m    \u001b[49m\u001b[43mseed\u001b[49m\u001b[43m \u001b[49m\u001b[43m=\u001b[49m\u001b[43m \u001b[49m\u001b[32;43m11\u001b[39;49m\u001b[43m,\u001b[49m\n\u001b[32m     13\u001b[39m \u001b[43m    \u001b[49m\u001b[43mresampling\u001b[49m\u001b[43m=\u001b[49m\u001b[33;43m'\u001b[39;49m\u001b[33;43mmultinomial\u001b[39;49m\u001b[33;43m'\u001b[39;49m\u001b[43m,\u001b[49m\n\u001b[32m     14\u001b[39m \u001b[43m    \u001b[49m\u001b[43mobservation_locations\u001b[49m\u001b[43m \u001b[49m\u001b[43m=\u001b[49m\u001b[43m \u001b[49m\u001b[43mobservation_locations_params\u001b[49m\u001b[43m,\u001b[49m\n\u001b[32m     15\u001b[39m \u001b[43m)\u001b[49m\n\u001b[32m     17\u001b[39m pf_systematic = ParticleFilter(\n\u001b[32m     18\u001b[39m     n_particles = ensemble_params.E,\n\u001b[32m     19\u001b[39m     n_steps = \u001b[32m1\u001b[39m,\n\u001b[32m   (...)\u001b[39m\u001b[32m     26\u001b[39m     observation_locations = observation_locations_params,\n\u001b[32m     27\u001b[39m )\n\u001b[32m     29\u001b[39m pf_no_resampling = ParticleFilter(\n\u001b[32m     30\u001b[39m     n_particles = ensemble_params.E,\n\u001b[32m     31\u001b[39m     n_steps = \u001b[32m1\u001b[39m,\n\u001b[32m   (...)\u001b[39m\u001b[32m     38\u001b[39m     observation_locations = observation_locations_params,\n\u001b[32m     39\u001b[39m )\n",
      "\u001b[31mTypeError\u001b[39m: ParticleFilter.__init__() got an unexpected keyword argument 'seed'"
     ]
    }
   ],
   "source": [
    "obs_frequency = 32\n",
    "observation_noise = 1e-2\n",
    "observation_locations_params = jnp.arange(0,len(signal_model_1.x),obs_frequency)\n",
    "#observation_locations_params = None\n",
    "pf_multinomial = ParticleFilter(\n",
    "    n_particles = ensemble_params.E,\n",
    "    n_steps = 1,\n",
    "    n_dim = initial_signal.shape[-1],\n",
    "    forward_model = ensemble_model_1,\n",
    "    signal_model = signal_model_1,\n",
    "    sigma = observation_noise,# this seems to be different than the sigma for the xi.\n",
    "    seed = 11,\n",
    "    resampling='multinomial',\n",
    "    observation_locations = observation_locations_params,\n",
    ")\n",
    "\n",
    "pf_systematic = ParticleFilter(\n",
    "    n_particles = ensemble_params.E,\n",
    "    n_steps = 1,\n",
    "    n_dim = initial_signal.shape[-1],\n",
    "    forward_model = ensemble_model_2,\n",
    "    signal_model = signal_model_2,\n",
    "    sigma = observation_noise,# this seems to be different than the sigma for the xi.\n",
    "    seed = 11,\n",
    "    resampling='systematic',\n",
    "    observation_locations = observation_locations_params,\n",
    ")\n",
    "\n",
    "pf_no_resampling = ParticleFilter(\n",
    "    n_particles = ensemble_params.E,\n",
    "    n_steps = 1,\n",
    "    n_dim = initial_signal.shape[-1],\n",
    "    forward_model = ensemble_model_3,\n",
    "    signal_model = signal_model_3,\n",
    "    sigma = observation_noise,# this seems to be different than the sigma for the xi.\n",
    "    seed = 11,\n",
    "    resampling='no_resampling',\n",
    "    observation_locations = observation_locations_params,\n",
    ")"
   ]
  },
  {
   "cell_type": "code",
   "execution_count": null,
   "metadata": {},
   "outputs": [
    {
     "name": "stdout",
     "output_type": "stream",
     "text": [
      "(4000, 1, 256)\n"
     ]
    }
   ],
   "source": [
    "final_systematic, all_systematic = pf_systematic.run(initial_ensemble, initial_signal, signal_model_1.nmax) \n",
    "final_multinomial, all_multinomial = pf_multinomial.run(initial_ensemble, initial_signal, signal_model_1.nmax) \n",
    "final_no_resampling, all_no_resampling = pf_no_resampling.run(initial_ensemble, initial_signal, signal_model_1.nmax)\n",
    "print(all_systematic[2].shape)"
   ]
  },
  {
   "cell_type": "code",
   "execution_count": null,
   "metadata": {},
   "outputs": [
    {
     "name": "stdout",
     "output_type": "stream",
     "text": [
      "(4000, 128, 256) (4000, 1, 256) (4000, 1, 256)\n"
     ]
    }
   ],
   "source": [
    "print(all_systematic[0].shape,all_systematic[1].shape,all_systematic[2].shape)\n",
    "# ensemble, signal, observation"
   ]
  },
  {
   "cell_type": "markdown",
   "metadata": {},
   "source": [
    "Put in the initial condition."
   ]
  },
  {
   "cell_type": "code",
   "execution_count": null,
   "metadata": {},
   "outputs": [
    {
     "name": "stdout",
     "output_type": "stream",
     "text": [
      "Particles Shape: (4001, 128, 256) is (N_da_steps+1, N_particles, N_dim)\n",
      "Signal Shape: (4001, 1, 256) is (N_da_steps+1, 1,  N_dim)\n",
      "Observations Shape: (4000, 1, 256) is (N_da_steps, 1,  N_dim)\n",
      "needs fixing, this should be (N_da_steps, N_obs_dim, N_dim)\n"
     ]
    }
   ],
   "source": [
    "particles_systematic = jnp.concatenate([initial_ensemble[None,...], all_systematic[0]], axis=0)\n",
    "particles_multinomial = jnp.concatenate([initial_ensemble[None,...], all_multinomial[0]], axis=0)\n",
    "particles_no_resampling = jnp.concatenate([initial_ensemble[None,...], all_no_resampling[0]], axis=0)\n",
    "\n",
    "signal = jnp.concatenate([initial_signal[None,...], all_systematic[1]], axis=0)\n",
    "print(f\"Particles Shape: {particles_systematic.shape} is (N_da_steps+1, N_particles, N_dim)\")\n",
    "print(f\"Signal Shape: {signal.shape} is (N_da_steps+1, 1,  N_dim)\")\n",
    "observations = all_systematic[2]\n",
    "print(f\"Observations Shape: {observations.shape} is (N_da_steps, 1,  N_dim)\")\n",
    "print(f\"needs fixing, this should be (N_da_steps, N_obs_dim, N_dim)\")"
   ]
  },
  {
   "cell_type": "code",
   "execution_count": null,
   "metadata": {},
   "outputs": [
    {
     "data": {
      "application/vnd.jupyter.widget-view+json": {
       "model_id": "1ab1783114f94291b6b991ac5f312c0b",
       "version_major": 2,
       "version_minor": 0
      },
      "text/plain": [
       "interactive(children=(IntSlider(value=2000, description='da_step', max=4000), Output()), _dom_classes=('widget…"
      ]
     },
     "metadata": {},
     "output_type": "display_data"
    },
    {
     "data": {
      "text/plain": [
       "<function __main__.plot(da_step)>"
      ]
     },
     "execution_count": 65,
     "metadata": {},
     "output_type": "execute_result"
    }
   ],
   "source": [
    "def plot(da_step):\n",
    "    plt.plot(signal_model_1.x, signal[da_step,0,:], color='k',label='signal')\n",
    "    \n",
    "    plt.plot(signal_model_1.x, particles_systematic[da_step,:,:].T, color='b',linewidth=0.01)\n",
    "    plt.plot(signal_model_1.x, particles_systematic[da_step,0,:].T, color='b',label='systematic',linewidth=0.01)\n",
    "\n",
    "    plt.plot(signal_model_1.x, particles_no_resampling[da_step,:,:].T, color='r',linewidth=0.01)\n",
    "    plt.plot(signal_model_1.x, particles_no_resampling[da_step,0,:].T, color='r',label='no resampling',linewidth=0.01)\n",
    "    \n",
    "    plt.scatter(signal_model_1.x[::obs_frequency], observations[da_step,0,::obs_frequency], color='r',label='observations')\n",
    "    plt.legend()\n",
    "    plt.show()\n",
    "\n",
    "interact(plot, da_step=(0, signal_model_1.nmax))"
   ]
  },
  {
   "cell_type": "code",
   "execution_count": null,
   "metadata": {},
   "outputs": [],
   "source": [
    "bias_systematic = ens_metrics.bias(signal[1:,...], particles_systematic[1:,...])\n",
    "rmse_systematic = ens_metrics.rmse(signal[1:,...], particles_systematic[1:,...])\n",
    "crps_systematic = ens_metrics.crps(signal[1:,...], particles_systematic[1:,...])\n",
    "bias_multinomial = ens_metrics.bias(signal[1:,...], particles_multinomial[1:,...])\n",
    "rmse_multinomial = ens_metrics.rmse(signal[1:,...], particles_multinomial[1:,...])\n",
    "crps_multinomial = ens_metrics.crps(signal[1:,...], particles_multinomial[1:,...])\n",
    "bias_no_resampling = ens_metrics.bias(signal[1:,...], particles_no_resampling[1:,...])\n",
    "rmse_no_resampling = ens_metrics.rmse(signal[1:,...], particles_no_resampling[1:,...])\n",
    "crps_no_resampling = ens_metrics.crps(signal[1:,...], particles_no_resampling[1:,...])"
   ]
  },
  {
   "cell_type": "code",
   "execution_count": null,
   "metadata": {},
   "outputs": [
    {
     "ename": "NameError",
     "evalue": "name 'bias_systematic' is not defined",
     "output_type": "error",
     "traceback": [
      "\u001b[0;31m---------------------------------------------------------------------------\u001b[0m",
      "\u001b[0;31mNameError\u001b[0m                                 Traceback (most recent call last)",
      "Cell \u001b[0;32mIn[3], line 1\u001b[0m\n\u001b[0;32m----> 1\u001b[0m \u001b[38;5;28mprint\u001b[39m(\u001b[43mbias_systematic\u001b[49m\u001b[38;5;241m.\u001b[39mshape, rmse_systematic\u001b[38;5;241m.\u001b[39mshape, crps_systematic\u001b[38;5;241m.\u001b[39mshape)\n",
      "\u001b[0;31mNameError\u001b[0m: name 'bias_systematic' is not defined"
     ]
    }
   ],
   "source": [
    "print(bias_systematic.shape, rmse_systematic.shape, crps_systematic.shape)"
   ]
  },
  {
   "cell_type": "code",
   "execution_count": null,
   "metadata": {},
   "outputs": [
    {
     "ename": "NameError",
     "evalue": "name 'plt' is not defined",
     "output_type": "error",
     "traceback": [
      "\u001b[0;31m---------------------------------------------------------------------------\u001b[0m",
      "\u001b[0;31mNameError\u001b[0m                                 Traceback (most recent call last)",
      "Cell \u001b[0;32mIn[4], line 1\u001b[0m\n\u001b[0;32m----> 1\u001b[0m \u001b[43mplt\u001b[49m\u001b[38;5;241m.\u001b[39mtitle(\u001b[38;5;124m'\u001b[39m\u001b[38;5;124mRMSE\u001b[39m\u001b[38;5;124m'\u001b[39m)\n\u001b[1;32m      2\u001b[0m plt\u001b[38;5;241m.\u001b[39mplot(rmse_systematic,label\u001b[38;5;241m=\u001b[39m\u001b[38;5;124mf\u001b[39m\u001b[38;5;124m'\u001b[39m\u001b[38;5;124msystematic-resampling\u001b[39m\u001b[38;5;124m'\u001b[39m,c\u001b[38;5;241m=\u001b[39m\u001b[38;5;124m'\u001b[39m\u001b[38;5;124mr\u001b[39m\u001b[38;5;124m'\u001b[39m)\n\u001b[1;32m      3\u001b[0m plt\u001b[38;5;241m.\u001b[39mplot(rmse_multinomial,label\u001b[38;5;241m=\u001b[39m\u001b[38;5;124mf\u001b[39m\u001b[38;5;124m'\u001b[39m\u001b[38;5;124mmultinomial-resampling\u001b[39m\u001b[38;5;124m'\u001b[39m,c\u001b[38;5;241m=\u001b[39m\u001b[38;5;124m'\u001b[39m\u001b[38;5;124mb\u001b[39m\u001b[38;5;124m'\u001b[39m)\n",
      "\u001b[0;31mNameError\u001b[0m: name 'plt' is not defined"
     ]
    }
   ],
   "source": [
    "plt.title('RMSE')\n",
    "plt.plot(rmse_systematic,label=f'systematic-resampling',c='r')\n",
    "plt.plot(rmse_multinomial,label=f'multinomial-resampling',c='b')\n",
    "plt.plot(rmse_no_resampling,label=f'no-resampling',c='g')\n",
    "plt.plot(observation_noise*jnp.ones_like(rmse_systematic),label=f'observation noise magnitude',c='k')\n",
    "plt.legend()\n",
    "plt.show()"
   ]
  },
  {
   "cell_type": "code",
   "execution_count": null,
   "metadata": {},
   "outputs": [
    {
     "data": {
      "image/png": "[encoded data removed]",
      "text/plain": [
       "<Figure size 640x480 with 1 Axes>"
      ]
     },
     "metadata": {},
     "output_type": "display_data"
    }
   ],
   "source": [
    "plt.title('CRPS')\n",
    "plt.plot(observation_noise*jnp.ones_like(crps_systematic),label=f'observation noise magnitude')\n",
    "plt.plot(crps_systematic,label=f'systematic-resampling')\n",
    "plt.plot(crps_multinomial,label=f'multinomial-resampling')\n",
    "plt.plot(crps_no_resampling,label=f'no-resampling')\n",
    "plt.legend()\n",
    "plt.show()"
   ]
  }
 ],
 "metadata": {
  "kernelspec": {
   "display_name": "new_environment_python",
   "language": "python",
   "name": "python3"
  },
  "language_info": {
   "codemirror_mode": {
    "name": "ipython",
    "version": 3
   },
   "file_extension": ".py",
   "mimetype": "text/x-python",
   "name": "python",
   "nbconvert_exporter": "python",
   "pygments_lexer": "ipython3",
   "version": "3.13.3"
  }
 },
 "nbformat": 4,
 "nbformat_minor": 2
}
